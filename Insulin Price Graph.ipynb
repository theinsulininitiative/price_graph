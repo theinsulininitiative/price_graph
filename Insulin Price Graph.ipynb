{
 "cells": [
  {
   "cell_type": "code",
   "execution_count": 1,
   "metadata": {},
   "outputs": [],
   "source": [
    "import pandas as pd\n",
    "import requests\n",
    "import json\n",
    "import csv\n",
    "import datetime\n",
    "import glob"
   ]
  },
  {
   "cell_type": "code",
   "execution_count": 2,
   "metadata": {},
   "outputs": [],
   "source": [
    "directory = r'C:\\Users\\Hannah\\Documents\\Insulin Advocacy\\Price Graph'\n",
    "insulin_price_data = pd.read_csv(directory + r'\\humalog_prices.csv')"
   ]
  },
  {
   "cell_type": "markdown",
   "metadata": {},
   "source": [
    "# Load in Price Data (Truven)"
   ]
  },
  {
   "cell_type": "code",
   "execution_count": 3,
   "metadata": {},
   "outputs": [],
   "source": [
    "insulin_price_data['Price'] = insulin_price_data['Price'].apply(lambda x: x.replace('$', '').replace(',', '')\n",
    "                                if isinstance(x, str) else x).astype(float)\n",
    "\n",
    "insulin_price_data['Date'] = pd.to_datetime(insulin_price_data['Date'],format='%m/%d/%Y').dt.date\n",
    "insulin_price_data = insulin_price_data.dropna(how='all')"
   ]
  },
  {
   "cell_type": "code",
   "execution_count": 4,
   "metadata": {},
   "outputs": [
    {
     "data": {
      "text/html": [
       "<div>\n",
       "<style scoped>\n",
       "    .dataframe tbody tr th:only-of-type {\n",
       "        vertical-align: middle;\n",
       "    }\n",
       "\n",
       "    .dataframe tbody tr th {\n",
       "        vertical-align: top;\n",
       "    }\n",
       "\n",
       "    .dataframe thead th {\n",
       "        text-align: right;\n",
       "    }\n",
       "</style>\n",
       "<table border=\"1\" class=\"dataframe\">\n",
       "  <thead>\n",
       "    <tr style=\"text-align: right;\">\n",
       "      <th></th>\n",
       "      <th>Date</th>\n",
       "      <th>Price</th>\n",
       "    </tr>\n",
       "  </thead>\n",
       "  <tbody>\n",
       "    <tr>\n",
       "      <th>31</th>\n",
       "      <td>2014-11-25</td>\n",
       "      <td>202.6</td>\n",
       "    </tr>\n",
       "    <tr>\n",
       "      <th>32</th>\n",
       "      <td>2015-05-29</td>\n",
       "      <td>222.7</td>\n",
       "    </tr>\n",
       "    <tr>\n",
       "      <th>33</th>\n",
       "      <td>2015-12-01</td>\n",
       "      <td>237.0</td>\n",
       "    </tr>\n",
       "    <tr>\n",
       "      <th>34</th>\n",
       "      <td>2016-07-13</td>\n",
       "      <td>254.8</td>\n",
       "    </tr>\n",
       "    <tr>\n",
       "      <th>35</th>\n",
       "      <td>2017-05-02</td>\n",
       "      <td>274.7</td>\n",
       "    </tr>\n",
       "  </tbody>\n",
       "</table>\n",
       "</div>"
      ],
      "text/plain": [
       "          Date  Price\n",
       "31  2014-11-25  202.6\n",
       "32  2015-05-29  222.7\n",
       "33  2015-12-01  237.0\n",
       "34  2016-07-13  254.8\n",
       "35  2017-05-02  274.7"
      ]
     },
     "execution_count": 4,
     "metadata": {},
     "output_type": "execute_result"
    }
   ],
   "source": [
    "insulin_price_data.tail()"
   ]
  },
  {
   "cell_type": "code",
   "execution_count": 5,
   "metadata": {},
   "outputs": [],
   "source": [
    "price_data_as_list = insulin_price_data.values.tolist()"
   ]
  },
  {
   "cell_type": "markdown",
   "metadata": {},
   "source": [
    "## Normalize to get price at year end"
   ]
  },
  {
   "cell_type": "code",
   "execution_count": 6,
   "metadata": {},
   "outputs": [],
   "source": [
    "data_holder_1 = [] \n",
    "for i, stamp in enumerate(price_data_as_list):\n",
    "    #print(stamp)\n",
    "    price_change_per_day = -1\n",
    "    if i == len(price_data_as_list) - 1:\n",
    "        pass\n",
    "    else:\n",
    "        date_diff = (price_data_as_list[i+1][0] - stamp[0]).days\n",
    "        \n",
    "        price_change_per_day = (price_data_as_list[i+1][1] - stamp[1])/date_diff\n",
    "    data_holder_1.append(stamp + [price_change_per_day])"
   ]
  },
  {
   "cell_type": "code",
   "execution_count": 7,
   "metadata": {},
   "outputs": [],
   "source": [
    "year_end_dates = ['{}-12-31'.format(x) for x in range(1996, 2017)]"
   ]
  },
  {
   "cell_type": "code",
   "execution_count": 8,
   "metadata": {
    "scrolled": true
   },
   "outputs": [
    {
     "name": "stdout",
     "output_type": "stream",
     "text": [
      "1996-12-31 00:00:00 1996-07-24 20.82 0.002556390977443608 160 0.40902255639097723 21.229022556390976\n",
      "1997-12-31 00:00:00 1997-08-27 21.84 0.004540059347181012 126 0.5720474777448076 22.412047477744807\n",
      "1998-12-31 00:00:00 1998-07-30 23.37 0.013680781758957653 154 2.1068403908794786 25.47684039087948\n",
      "1999-12-31 00:00:00 1999-06-02 27.57 0.005594202898550724 212 1.1859710144927536 28.755971014492754\n",
      "2000-12-31 00:00:00 2000-11-21 34.81 0.030683229813664583 40 1.2273291925465832 36.037329192546586\n",
      "2001-12-31 00:00:00 2001-05-01 39.75 0.007653846153846161 244 1.8675384615384634 41.617538461538466\n",
      "2002-12-31 00:00:00 2002-12-19 49.14 0.017065637065637074 12 0.20478764478764488 49.344787644787644\n",
      "2003-12-31 00:00:00 2003-09-04 53.56 0.012422680412371117 118 1.4658762886597918 55.025876288659795\n",
      "2004-12-31 00:00:00 2004-03-16 55.97 0.01341296928327645 290 3.88976109215017 59.859761092150165\n",
      "2005-12-31 00:00:00 2005-07-27 64.69 0.01050925925925924 157 1.6499537037037009 66.3399537037037\n",
      "2006-12-31 00:00:00 2006-09-14 70.31 0.012988929889298879 108 1.4028044280442789 71.71280442804428\n",
      "2007-12-31 00:00:00 2007-09-05 76.55 0.030743243243243224 117 3.596959459459457 80.14695945945945\n",
      "2008-12-31 00:00:00 2008-08-27 86.0 0.0398809523809524 126 5.025000000000002 91.025\n",
      "2009-12-31 00:00:00 2009-12-15 99.65 0.030343511450381635 16 0.48549618320610616 100.13549618320612\n",
      "2010-12-31 00:00:00 2010-09-03 107.6 0.033471074380165326 119 3.983057851239674 111.58305785123967\n",
      "2011-12-31 00:00:00 2011-11-30 122.6 0.033035714285714314 31 1.0241071428571438 123.62410714285714\n",
      "2012-12-31 00:00:00 2012-12-28 140.4 0.05952380952380952 3 0.17857142857142855 140.57857142857142\n",
      "2013-12-31 00:00:00 2013-12-12 167.7 0.09485714285714299 19 1.8022857142857167 169.5022857142857\n",
      "2014-12-31 00:00:00 2014-11-25 202.6 0.10864864864864862 36 3.9113513513513505 206.51135135135135\n",
      "2015-12-31 00:00:00 2015-12-01 237.0 0.07911111111111116 30 2.373333333333335 239.37333333333333\n",
      "2016-12-31 00:00:00 2016-07-13 254.8 0.06791808873720129 171 11.61399317406142 266.41399317406143\n"
     ]
    }
   ],
   "source": [
    "data_holder_2 = []\n",
    "for x in year_end_dates:\n",
    "    year_end_as_date = datetime.datetime.strptime(x , '%Y-%m-%d')\n",
    "    \n",
    "    eyes = []\n",
    "    for i, stamp in enumerate(data_holder_1):\n",
    "        stamp_date = datetime.datetime.combine(stamp[0], datetime.time(0, 0))\n",
    "        if year_end_as_date > stamp_date:\n",
    "            eyes.append(i)\n",
    "    max_i = max(eyes)\n",
    "    \n",
    "    compare_date = datetime.datetime.combine(data_holder_1[max_i][0], datetime.time(0, 0))\n",
    "    date_difference = (year_end_as_date - compare_date).days\n",
    "    factor = date_difference * data_holder_1[max_i][2]\n",
    "    price_at_year_end = data_holder_1[max_i][1] + factor\n",
    "    \n",
    "    print(year_end_as_date,data_holder_1[max_i][0],data_holder_1[max_i][1],data_holder_1[max_i][2], date_difference, factor, price_at_year_end)\n",
    "    \n",
    "    data_holder_2.append(['N/A', 'Insulin (Humalog)', year_end_as_date, price_at_year_end])"
   ]
  },
  {
   "cell_type": "markdown",
   "metadata": {},
   "source": [
    "# Load in Inflation Data (BLS)"
   ]
  },
  {
   "cell_type": "code",
   "execution_count": 9,
   "metadata": {},
   "outputs": [],
   "source": [
    "inflation_dict = {'CUUR0000SEMD': 'Hospital Services', 'CUUR0000SEMF01': 'Prescription Drugs', 'CUUR0000SAM2':'Medical Care Services', 'CUUR0000SEEB01': 'College Tuition',\n",
    "                 'CUUR0000SEEB03': 'Childcare', 'CUUR0000SAH1': 'Housing (Shelter)', 'CUUR0000SAH2': 'Utilities', 'CUUR0000SAF': 'Food and Beverage', 'CUUR0000SEED03': 'Cellphone Service', 'CUUR0000SA0': 'All Items'}"
   ]
  },
  {
   "cell_type": "code",
   "execution_count": 10,
   "metadata": {},
   "outputs": [],
   "source": [
    "series_list = [k  for k in inflation_dict]"
   ]
  },
  {
   "cell_type": "markdown",
   "metadata": {},
   "source": [
    "## Download data from BLS in chunks"
   ]
  },
  {
   "cell_type": "code",
   "execution_count": 11,
   "metadata": {},
   "outputs": [
    {
     "data": {
      "text/plain": [
       "'\\nstart_ = 2016\\nend_ = 2017\\n#header for the API\\nheaders = {\\'Content-type\\': \\'application/json\\'}\\n# list of data sets we want to get, with dates\\ndata = json.dumps({\"seriesid\": series_list, \"startyear\":\"{}\".format(start_), \"endyear\":\"{}\".format(end_)})\\n\\n# go and get the data and load it as a json file\\np = requests.post(\\'https://api.bls.gov/publicAPI/v2/timeseries/data/\\', data=data, headers=headers)\\njson_data = json.loads(p.text)\\n'"
      ]
     },
     "execution_count": 11,
     "metadata": {},
     "output_type": "execute_result"
    }
   ],
   "source": [
    "'''\n",
    "start_ = 2016\n",
    "end_ = 2017\n",
    "#header for the API\n",
    "headers = {'Content-type': 'application/json'}\n",
    "# list of data sets we want to get, with dates\n",
    "data = json.dumps({\"seriesid\": series_list, \"startyear\":\"{}\".format(start_), \"endyear\":\"{}\".format(end_)})\n",
    "\n",
    "# go and get the data and load it as a json file\n",
    "p = requests.post('https://api.bls.gov/publicAPI/v2/timeseries/data/', data=data, headers=headers)\n",
    "json_data = json.loads(p.text)\n",
    "'''"
   ]
  },
  {
   "cell_type": "code",
   "execution_count": 12,
   "metadata": {},
   "outputs": [
    {
     "data": {
      "text/plain": [
       "'\\nfields=[\"series_id\",\"year\",\"period\",\"value\",\"footnotes\"]\\n\\nfor series in json_data[\\'Results\\'][\\'series\\']:\\n    \\n    seriesID = series[\\'seriesID\\']\\n    outfile = \\'{}/data/{}_{}.csv\\'.format(directory, seriesID, end_)\\n    \\n    with open(outfile, \\'w\\') as iFile:\\n        writer = csv.writer(iFile)\\n        writer.writerow(fields)\\n        \\n        for item in series[\\'data\\']:\\n            year = item[\\'year\\']\\n            period = item[\\'period\\']\\n            value = item[\\'value\\']\\n            footnotes=\"\"\\n            for footnote in item[\\'footnotes\\']:\\n                if footnote:\\n                    footnotes = footnotes + footnote[\\'text\\'] + \\',\\'\\n\\n            if \\'M01\\' <= period <= \\'M12\\':\\n                writer.writerow([seriesID,year,period,value,footnotes[0:-1]])\\n                \\n    iFile.close()  # good idea to close if you\\'re done with it\\n    '"
      ]
     },
     "execution_count": 12,
     "metadata": {},
     "output_type": "execute_result"
    }
   ],
   "source": [
    "'''\n",
    "fields=[\"series_id\",\"year\",\"period\",\"value\",\"footnotes\"]\n",
    "\n",
    "for series in json_data['Results']['series']:\n",
    "    \n",
    "    seriesID = series['seriesID']\n",
    "    outfile = '{}/data/{}_{}.csv'.format(directory, seriesID, end_)\n",
    "    \n",
    "    with open(outfile, 'w') as iFile:\n",
    "        writer = csv.writer(iFile)\n",
    "        writer.writerow(fields)\n",
    "        \n",
    "        for item in series['data']:\n",
    "            year = item['year']\n",
    "            period = item['period']\n",
    "            value = item['value']\n",
    "            footnotes=\"\"\n",
    "            for footnote in item['footnotes']:\n",
    "                if footnote:\n",
    "                    footnotes = footnotes + footnote['text'] + ','\n",
    "\n",
    "            if 'M01' <= period <= 'M12':\n",
    "                writer.writerow([seriesID,year,period,value,footnotes[0:-1]])\n",
    "                \n",
    "    iFile.close()  # good idea to close if you're done with it\n",
    "    '''"
   ]
  },
  {
   "cell_type": "markdown",
   "metadata": {},
   "source": [
    "# Final Data Merging"
   ]
  },
  {
   "cell_type": "code",
   "execution_count": 13,
   "metadata": {},
   "outputs": [],
   "source": [
    "all_files = glob.glob('{}/data'.format(directory) + \"/*.csv\")\n",
    "\n",
    "li = []\n",
    "\n",
    "for filename in all_files:\n",
    "    df = pd.read_csv(filename, index_col=None, header=0)\n",
    "    li.append(df)\n",
    "\n",
    "frame = pd.concat(li, axis=0, ignore_index=True)"
   ]
  },
  {
   "cell_type": "code",
   "execution_count": 14,
   "metadata": {},
   "outputs": [
    {
     "data": {
      "text/html": [
       "<div>\n",
       "<style scoped>\n",
       "    .dataframe tbody tr th:only-of-type {\n",
       "        vertical-align: middle;\n",
       "    }\n",
       "\n",
       "    .dataframe tbody tr th {\n",
       "        vertical-align: top;\n",
       "    }\n",
       "\n",
       "    .dataframe thead th {\n",
       "        text-align: right;\n",
       "    }\n",
       "</style>\n",
       "<table border=\"1\" class=\"dataframe\">\n",
       "  <thead>\n",
       "    <tr style=\"text-align: right;\">\n",
       "      <th></th>\n",
       "      <th>series_id</th>\n",
       "      <th>year</th>\n",
       "      <th>period</th>\n",
       "      <th>value</th>\n",
       "      <th>footnotes</th>\n",
       "    </tr>\n",
       "  </thead>\n",
       "  <tbody>\n",
       "    <tr>\n",
       "      <th>0</th>\n",
       "      <td>CUUR0000SA0</td>\n",
       "      <td>2005</td>\n",
       "      <td>M12</td>\n",
       "      <td>196.8</td>\n",
       "      <td>NaN</td>\n",
       "    </tr>\n",
       "    <tr>\n",
       "      <th>1</th>\n",
       "      <td>CUUR0000SA0</td>\n",
       "      <td>2005</td>\n",
       "      <td>M11</td>\n",
       "      <td>197.6</td>\n",
       "      <td>NaN</td>\n",
       "    </tr>\n",
       "    <tr>\n",
       "      <th>2</th>\n",
       "      <td>CUUR0000SA0</td>\n",
       "      <td>2005</td>\n",
       "      <td>M10</td>\n",
       "      <td>199.2</td>\n",
       "      <td>NaN</td>\n",
       "    </tr>\n",
       "    <tr>\n",
       "      <th>3</th>\n",
       "      <td>CUUR0000SA0</td>\n",
       "      <td>2005</td>\n",
       "      <td>M09</td>\n",
       "      <td>198.8</td>\n",
       "      <td>NaN</td>\n",
       "    </tr>\n",
       "    <tr>\n",
       "      <th>4</th>\n",
       "      <td>CUUR0000SA0</td>\n",
       "      <td>2005</td>\n",
       "      <td>M08</td>\n",
       "      <td>196.4</td>\n",
       "      <td>NaN</td>\n",
       "    </tr>\n",
       "  </tbody>\n",
       "</table>\n",
       "</div>"
      ],
      "text/plain": [
       "     series_id  year period  value  footnotes\n",
       "0  CUUR0000SA0  2005    M12  196.8        NaN\n",
       "1  CUUR0000SA0  2005    M11  197.6        NaN\n",
       "2  CUUR0000SA0  2005    M10  199.2        NaN\n",
       "3  CUUR0000SA0  2005    M09  198.8        NaN\n",
       "4  CUUR0000SA0  2005    M08  196.4        NaN"
      ]
     },
     "execution_count": 14,
     "metadata": {},
     "output_type": "execute_result"
    }
   ],
   "source": [
    "frame.head()"
   ]
  },
  {
   "cell_type": "code",
   "execution_count": 15,
   "metadata": {},
   "outputs": [],
   "source": [
    "frame['Category']= ''\n",
    "frame = frame[(frame['period'] == 'M12') & (frame['year'] < 2017) & (frame['series_id'] != 'CUUR0000SEED03')]\n",
    "frame['year'] = frame['year'].astype(str)\n",
    "frame['year_end_date'] = frame['year'] + '-12-31'\n",
    "frame['year_end_date'] = pd.to_datetime(frame['year_end_date'],format='%Y-%m-%d').dt.date"
   ]
  },
  {
   "cell_type": "code",
   "execution_count": 16,
   "metadata": {},
   "outputs": [],
   "source": [
    "keep = ['series_id', 'Category', 'year_end_date','value' ]"
   ]
  },
  {
   "cell_type": "code",
   "execution_count": 17,
   "metadata": {},
   "outputs": [],
   "source": [
    "frame = frame[keep]"
   ]
  },
  {
   "cell_type": "code",
   "execution_count": 18,
   "metadata": {},
   "outputs": [
    {
     "data": {
      "text/html": [
       "<div>\n",
       "<style scoped>\n",
       "    .dataframe tbody tr th:only-of-type {\n",
       "        vertical-align: middle;\n",
       "    }\n",
       "\n",
       "    .dataframe tbody tr th {\n",
       "        vertical-align: top;\n",
       "    }\n",
       "\n",
       "    .dataframe thead th {\n",
       "        text-align: right;\n",
       "    }\n",
       "</style>\n",
       "<table border=\"1\" class=\"dataframe\">\n",
       "  <thead>\n",
       "    <tr style=\"text-align: right;\">\n",
       "      <th></th>\n",
       "      <th>series_id</th>\n",
       "      <th>Category</th>\n",
       "      <th>year_end_date</th>\n",
       "      <th>value</th>\n",
       "    </tr>\n",
       "  </thead>\n",
       "  <tbody>\n",
       "    <tr>\n",
       "      <th>0</th>\n",
       "      <td>CUUR0000SA0</td>\n",
       "      <td></td>\n",
       "      <td>2005-12-31</td>\n",
       "      <td>196.8</td>\n",
       "    </tr>\n",
       "    <tr>\n",
       "      <th>12</th>\n",
       "      <td>CUUR0000SA0</td>\n",
       "      <td></td>\n",
       "      <td>2004-12-31</td>\n",
       "      <td>190.3</td>\n",
       "    </tr>\n",
       "    <tr>\n",
       "      <th>24</th>\n",
       "      <td>CUUR0000SA0</td>\n",
       "      <td></td>\n",
       "      <td>2003-12-31</td>\n",
       "      <td>184.3</td>\n",
       "    </tr>\n",
       "    <tr>\n",
       "      <th>36</th>\n",
       "      <td>CUUR0000SA0</td>\n",
       "      <td></td>\n",
       "      <td>2002-12-31</td>\n",
       "      <td>180.9</td>\n",
       "    </tr>\n",
       "    <tr>\n",
       "      <th>48</th>\n",
       "      <td>CUUR0000SA0</td>\n",
       "      <td></td>\n",
       "      <td>2001-12-31</td>\n",
       "      <td>176.7</td>\n",
       "    </tr>\n",
       "  </tbody>\n",
       "</table>\n",
       "</div>"
      ],
      "text/plain": [
       "      series_id Category year_end_date  value\n",
       "0   CUUR0000SA0             2005-12-31  196.8\n",
       "12  CUUR0000SA0             2004-12-31  190.3\n",
       "24  CUUR0000SA0             2003-12-31  184.3\n",
       "36  CUUR0000SA0             2002-12-31  180.9\n",
       "48  CUUR0000SA0             2001-12-31  176.7"
      ]
     },
     "execution_count": 18,
     "metadata": {},
     "output_type": "execute_result"
    }
   ],
   "source": [
    "frame.head()"
   ]
  },
  {
   "cell_type": "code",
   "execution_count": 19,
   "metadata": {},
   "outputs": [],
   "source": [
    "insulin_frame = pd.DataFrame(data_holder_2, columns=['series_id', 'Category', 'year_end_date','value'])\n",
    "insulin_frame['year_end_date'] = insulin_frame['year_end_date'].apply(lambda x: x.date())"
   ]
  },
  {
   "cell_type": "code",
   "execution_count": 20,
   "metadata": {},
   "outputs": [],
   "source": [
    "combined_frame = pd.concat([insulin_frame, frame])\n"
   ]
  },
  {
   "cell_type": "code",
   "execution_count": 21,
   "metadata": {},
   "outputs": [],
   "source": [
    "combined_frame.loc[(combined_frame['series_id'] == 'CUUR0000SEMD'),'Category'] = 'Hospital Services'\n",
    "combined_frame.loc[(combined_frame['series_id'] == 'CUUR0000SEMF01'),'Category'] = 'Prescription Drugs'\n",
    "combined_frame.loc[(combined_frame['series_id'] == 'CUUR0000SAM2'),'Category'] = 'Medical Care Services'\n",
    "combined_frame.loc[(combined_frame['series_id'] == 'CUUR0000SEEB01'),'Category'] = 'College Tuition'\n",
    "combined_frame.loc[(combined_frame['series_id'] == 'CUUR0000SEEB03'),'Category'] = 'Childcare'\n",
    "combined_frame.loc[(combined_frame['series_id'] == 'CUUR0000SAH1'),'Category'] = 'Housing (Shelter)'\n",
    "combined_frame.loc[(combined_frame['series_id'] == 'CUUR0000SAH2'),'Category'] = 'Utilities'\n",
    "combined_frame.loc[(combined_frame['series_id'] == 'CUUR0000SAF'),'Category'] = 'Food and Beverage'\n",
    "combined_frame.loc[(combined_frame['series_id'] == 'CUUR0000SA0'),'Category'] = 'All Items'"
   ]
  },
  {
   "cell_type": "code",
   "execution_count": 22,
   "metadata": {
    "scrolled": false
   },
   "outputs": [],
   "source": [
    "combined_frame = combined_frame.sort_values(['series_id','Category', 'year_end_date'], ascending=[0,1, 1])\n",
    "combined_frame_list = combined_frame.values.tolist()"
   ]
  },
  {
   "cell_type": "code",
   "execution_count": 23,
   "metadata": {},
   "outputs": [
    {
     "data": {
      "text/html": [
       "<div>\n",
       "<style scoped>\n",
       "    .dataframe tbody tr th:only-of-type {\n",
       "        vertical-align: middle;\n",
       "    }\n",
       "\n",
       "    .dataframe tbody tr th {\n",
       "        vertical-align: top;\n",
       "    }\n",
       "\n",
       "    .dataframe thead th {\n",
       "        text-align: right;\n",
       "    }\n",
       "</style>\n",
       "<table border=\"1\" class=\"dataframe\">\n",
       "  <thead>\n",
       "    <tr style=\"text-align: right;\">\n",
       "      <th></th>\n",
       "      <th>series_id</th>\n",
       "      <th>Category</th>\n",
       "      <th>year_end_date</th>\n",
       "      <th>value</th>\n",
       "    </tr>\n",
       "  </thead>\n",
       "  <tbody>\n",
       "    <tr>\n",
       "      <th>468</th>\n",
       "      <td>CUUR0000SAF</td>\n",
       "      <td>Food and Beverage</td>\n",
       "      <td>2008-12-31</td>\n",
       "      <td>218.839</td>\n",
       "    </tr>\n",
       "    <tr>\n",
       "      <th>456</th>\n",
       "      <td>CUUR0000SAF</td>\n",
       "      <td>Food and Beverage</td>\n",
       "      <td>2009-12-31</td>\n",
       "      <td>218.049</td>\n",
       "    </tr>\n",
       "    <tr>\n",
       "      <th>444</th>\n",
       "      <td>CUUR0000SAF</td>\n",
       "      <td>Food and Beverage</td>\n",
       "      <td>2010-12-31</td>\n",
       "      <td>221.278</td>\n",
       "    </tr>\n",
       "    <tr>\n",
       "      <th>432</th>\n",
       "      <td>CUUR0000SAF</td>\n",
       "      <td>Food and Beverage</td>\n",
       "      <td>2011-12-31</td>\n",
       "      <td>231.130</td>\n",
       "    </tr>\n",
       "    <tr>\n",
       "      <th>420</th>\n",
       "      <td>CUUR0000SAF</td>\n",
       "      <td>Food and Beverage</td>\n",
       "      <td>2012-12-31</td>\n",
       "      <td>235.230</td>\n",
       "    </tr>\n",
       "    <tr>\n",
       "      <th>408</th>\n",
       "      <td>CUUR0000SAF</td>\n",
       "      <td>Food and Beverage</td>\n",
       "      <td>2013-12-31</td>\n",
       "      <td>237.820</td>\n",
       "    </tr>\n",
       "    <tr>\n",
       "      <th>396</th>\n",
       "      <td>CUUR0000SAF</td>\n",
       "      <td>Food and Beverage</td>\n",
       "      <td>2014-12-31</td>\n",
       "      <td>245.585</td>\n",
       "    </tr>\n",
       "    <tr>\n",
       "      <th>384</th>\n",
       "      <td>CUUR0000SAF</td>\n",
       "      <td>Food and Beverage</td>\n",
       "      <td>2015-12-31</td>\n",
       "      <td>247.468</td>\n",
       "    </tr>\n",
       "    <tr>\n",
       "      <th>516</th>\n",
       "      <td>CUUR0000SAF</td>\n",
       "      <td>Food and Beverage</td>\n",
       "      <td>2016-12-31</td>\n",
       "      <td>247.134</td>\n",
       "    </tr>\n",
       "    <tr>\n",
       "      <th>108</th>\n",
       "      <td>CUUR0000SA0</td>\n",
       "      <td>All Items</td>\n",
       "      <td>1996-12-31</td>\n",
       "      <td>158.600</td>\n",
       "    </tr>\n",
       "    <tr>\n",
       "      <th>96</th>\n",
       "      <td>CUUR0000SA0</td>\n",
       "      <td>All Items</td>\n",
       "      <td>1997-12-31</td>\n",
       "      <td>161.300</td>\n",
       "    </tr>\n",
       "    <tr>\n",
       "      <th>84</th>\n",
       "      <td>CUUR0000SA0</td>\n",
       "      <td>All Items</td>\n",
       "      <td>1998-12-31</td>\n",
       "      <td>163.900</td>\n",
       "    </tr>\n",
       "    <tr>\n",
       "      <th>72</th>\n",
       "      <td>CUUR0000SA0</td>\n",
       "      <td>All Items</td>\n",
       "      <td>1999-12-31</td>\n",
       "      <td>168.300</td>\n",
       "    </tr>\n",
       "    <tr>\n",
       "      <th>60</th>\n",
       "      <td>CUUR0000SA0</td>\n",
       "      <td>All Items</td>\n",
       "      <td>2000-12-31</td>\n",
       "      <td>174.000</td>\n",
       "    </tr>\n",
       "    <tr>\n",
       "      <th>48</th>\n",
       "      <td>CUUR0000SA0</td>\n",
       "      <td>All Items</td>\n",
       "      <td>2001-12-31</td>\n",
       "      <td>176.700</td>\n",
       "    </tr>\n",
       "    <tr>\n",
       "      <th>36</th>\n",
       "      <td>CUUR0000SA0</td>\n",
       "      <td>All Items</td>\n",
       "      <td>2002-12-31</td>\n",
       "      <td>180.900</td>\n",
       "    </tr>\n",
       "    <tr>\n",
       "      <th>24</th>\n",
       "      <td>CUUR0000SA0</td>\n",
       "      <td>All Items</td>\n",
       "      <td>2003-12-31</td>\n",
       "      <td>184.300</td>\n",
       "    </tr>\n",
       "    <tr>\n",
       "      <th>12</th>\n",
       "      <td>CUUR0000SA0</td>\n",
       "      <td>All Items</td>\n",
       "      <td>2004-12-31</td>\n",
       "      <td>190.300</td>\n",
       "    </tr>\n",
       "    <tr>\n",
       "      <th>0</th>\n",
       "      <td>CUUR0000SA0</td>\n",
       "      <td>All Items</td>\n",
       "      <td>2005-12-31</td>\n",
       "      <td>196.800</td>\n",
       "    </tr>\n",
       "    <tr>\n",
       "      <th>228</th>\n",
       "      <td>CUUR0000SA0</td>\n",
       "      <td>All Items</td>\n",
       "      <td>2006-12-31</td>\n",
       "      <td>201.800</td>\n",
       "    </tr>\n",
       "    <tr>\n",
       "      <th>216</th>\n",
       "      <td>CUUR0000SA0</td>\n",
       "      <td>All Items</td>\n",
       "      <td>2007-12-31</td>\n",
       "      <td>210.036</td>\n",
       "    </tr>\n",
       "    <tr>\n",
       "      <th>204</th>\n",
       "      <td>CUUR0000SA0</td>\n",
       "      <td>All Items</td>\n",
       "      <td>2008-12-31</td>\n",
       "      <td>210.228</td>\n",
       "    </tr>\n",
       "    <tr>\n",
       "      <th>192</th>\n",
       "      <td>CUUR0000SA0</td>\n",
       "      <td>All Items</td>\n",
       "      <td>2009-12-31</td>\n",
       "      <td>215.949</td>\n",
       "    </tr>\n",
       "    <tr>\n",
       "      <th>180</th>\n",
       "      <td>CUUR0000SA0</td>\n",
       "      <td>All Items</td>\n",
       "      <td>2010-12-31</td>\n",
       "      <td>219.179</td>\n",
       "    </tr>\n",
       "    <tr>\n",
       "      <th>168</th>\n",
       "      <td>CUUR0000SA0</td>\n",
       "      <td>All Items</td>\n",
       "      <td>2011-12-31</td>\n",
       "      <td>225.672</td>\n",
       "    </tr>\n",
       "    <tr>\n",
       "      <th>156</th>\n",
       "      <td>CUUR0000SA0</td>\n",
       "      <td>All Items</td>\n",
       "      <td>2012-12-31</td>\n",
       "      <td>229.601</td>\n",
       "    </tr>\n",
       "    <tr>\n",
       "      <th>144</th>\n",
       "      <td>CUUR0000SA0</td>\n",
       "      <td>All Items</td>\n",
       "      <td>2013-12-31</td>\n",
       "      <td>233.049</td>\n",
       "    </tr>\n",
       "    <tr>\n",
       "      <th>132</th>\n",
       "      <td>CUUR0000SA0</td>\n",
       "      <td>All Items</td>\n",
       "      <td>2014-12-31</td>\n",
       "      <td>234.812</td>\n",
       "    </tr>\n",
       "    <tr>\n",
       "      <th>120</th>\n",
       "      <td>CUUR0000SA0</td>\n",
       "      <td>All Items</td>\n",
       "      <td>2015-12-31</td>\n",
       "      <td>236.525</td>\n",
       "    </tr>\n",
       "    <tr>\n",
       "      <th>252</th>\n",
       "      <td>CUUR0000SA0</td>\n",
       "      <td>All Items</td>\n",
       "      <td>2016-12-31</td>\n",
       "      <td>241.432</td>\n",
       "    </tr>\n",
       "  </tbody>\n",
       "</table>\n",
       "</div>"
      ],
      "text/plain": [
       "       series_id           Category year_end_date    value\n",
       "468  CUUR0000SAF  Food and Beverage    2008-12-31  218.839\n",
       "456  CUUR0000SAF  Food and Beverage    2009-12-31  218.049\n",
       "444  CUUR0000SAF  Food and Beverage    2010-12-31  221.278\n",
       "432  CUUR0000SAF  Food and Beverage    2011-12-31  231.130\n",
       "420  CUUR0000SAF  Food and Beverage    2012-12-31  235.230\n",
       "408  CUUR0000SAF  Food and Beverage    2013-12-31  237.820\n",
       "396  CUUR0000SAF  Food and Beverage    2014-12-31  245.585\n",
       "384  CUUR0000SAF  Food and Beverage    2015-12-31  247.468\n",
       "516  CUUR0000SAF  Food and Beverage    2016-12-31  247.134\n",
       "108  CUUR0000SA0          All Items    1996-12-31  158.600\n",
       "96   CUUR0000SA0          All Items    1997-12-31  161.300\n",
       "84   CUUR0000SA0          All Items    1998-12-31  163.900\n",
       "72   CUUR0000SA0          All Items    1999-12-31  168.300\n",
       "60   CUUR0000SA0          All Items    2000-12-31  174.000\n",
       "48   CUUR0000SA0          All Items    2001-12-31  176.700\n",
       "36   CUUR0000SA0          All Items    2002-12-31  180.900\n",
       "24   CUUR0000SA0          All Items    2003-12-31  184.300\n",
       "12   CUUR0000SA0          All Items    2004-12-31  190.300\n",
       "0    CUUR0000SA0          All Items    2005-12-31  196.800\n",
       "228  CUUR0000SA0          All Items    2006-12-31  201.800\n",
       "216  CUUR0000SA0          All Items    2007-12-31  210.036\n",
       "204  CUUR0000SA0          All Items    2008-12-31  210.228\n",
       "192  CUUR0000SA0          All Items    2009-12-31  215.949\n",
       "180  CUUR0000SA0          All Items    2010-12-31  219.179\n",
       "168  CUUR0000SA0          All Items    2011-12-31  225.672\n",
       "156  CUUR0000SA0          All Items    2012-12-31  229.601\n",
       "144  CUUR0000SA0          All Items    2013-12-31  233.049\n",
       "132  CUUR0000SA0          All Items    2014-12-31  234.812\n",
       "120  CUUR0000SA0          All Items    2015-12-31  236.525\n",
       "252  CUUR0000SA0          All Items    2016-12-31  241.432"
      ]
     },
     "execution_count": 23,
     "metadata": {},
     "output_type": "execute_result"
    }
   ],
   "source": [
    "combined_frame.tail(30)"
   ]
  },
  {
   "cell_type": "code",
   "execution_count": 24,
   "metadata": {},
   "outputs": [
    {
     "name": "stdout",
     "output_type": "stream",
     "text": [
      "Insulin (Humalog) 1996-12-31 21.229022556390976 21.229022556390976 0\n",
      "Insulin (Humalog) 1997-12-31 21.229022556390976 22.412047477744807 0.05572677301610769\n",
      "Insulin (Humalog) 1998-12-31 21.229022556390976 25.47684039087948 0.20009483824349242\n",
      "Insulin (Humalog) 1999-12-31 21.229022556390976 28.755971014492754 0.35455935091254576\n",
      "Insulin (Humalog) 2000-12-31 21.229022556390976 36.037329192546586 0.6975500919470069\n",
      "Insulin (Humalog) 2001-12-31 21.229022556390976 41.617538461538466 0.9604076613037252\n",
      "Insulin (Humalog) 2002-12-31 21.229022556390976 49.344787644787644 1.3244022429064894\n",
      "Insulin (Humalog) 2003-12-31 21.229022556390976 55.025876288659795 1.5920117679697083\n",
      "Insulin (Humalog) 2004-12-31 21.229022556390976 59.859761092150165 1.8197134810678999\n",
      "Insulin (Humalog) 2005-12-31 21.229022556390976 66.3399537037037 2.1249650579758854\n",
      "Insulin (Humalog) 2006-12-31 21.229022556390976 71.71280442804428 2.3780549357631737\n",
      "Insulin (Humalog) 2007-12-31 21.229022556390976 80.14695945945945 2.775348546856732\n",
      "Insulin (Humalog) 2008-12-31 21.229022556390976 91.025 3.2877621783202176\n",
      "Insulin (Humalog) 2009-12-31 21.229022556390976 100.13549618320612 3.7169150589583047\n",
      "Insulin (Humalog) 2010-12-31 21.229022556390976 111.58305785123967 4.256156168040233\n",
      "Insulin (Humalog) 2011-12-31 21.229022556390976 123.62410714285714 4.8233537043202315\n",
      "Insulin (Humalog) 2012-12-31 21.229022556390976 140.57857142857142 5.6219992491482085\n",
      "Insulin (Humalog) 2013-12-31 21.229022556390976 169.5022857142857 6.984460201313282\n",
      "Insulin (Humalog) 2014-12-31 21.229022556390976 206.51135135135135 8.727784253975523\n",
      "Insulin (Humalog) 2015-12-31 21.229022556390976 239.37333333333333 10.27575858462076\n",
      "Insulin (Humalog) 2016-12-31 21.229022556390976 266.41399317406143 11.549517645778645\n",
      "Prescription Drugs 1996-12-31 245.4 245.4 0\n",
      "Prescription Drugs 1997-12-31 245.4 251.5 0.02485737571312141\n",
      "Prescription Drugs 1998-12-31 245.4 263.8 0.07497962510187452\n",
      "Prescription Drugs 1999-12-31 245.4 279.9 0.14058679706601454\n",
      "Prescription Drugs 2000-12-31 245.4 290.0 0.18174409127954358\n",
      "Prescription Drugs 2001-12-31 245.4 307.3 0.25224123879380606\n",
      "Prescription Drugs 2002-12-31 245.4 321.2 0.308883455582722\n",
      "Prescription Drugs 2003-12-31 245.4 329.1 0.34107579462102694\n",
      "Prescription Drugs 2004-12-31 245.4 340.7 0.38834555827220857\n",
      "Prescription Drugs 2005-12-31 245.4 355.7 0.4494702526487367\n",
      "Prescription Drugs 2006-12-31 245.4 362.3 0.47636511817440913\n",
      "Prescription Drugs 2007-12-31 245.4 374.389 0.5256275468622656\n",
      "Prescription Drugs 2008-12-31 245.4 379.94300000000004 0.5482599837000817\n",
      "Prescription Drugs 2009-12-31 245.4 396.526 0.6158353708231459\n",
      "Prescription Drugs 2010-12-31 245.4 412.786 0.6820945395273024\n",
      "Prescription Drugs 2011-12-31 245.4 429.81699999999995 0.7514955175224122\n",
      "Prescription Drugs 2012-12-31 245.4 437.905 0.7844539527302362\n",
      "Prescription Drugs 2013-12-31 245.4 441.589 0.7994661776691117\n",
      "Prescription Drugs 2014-12-31 245.4 469.778 0.9143357783211085\n",
      "Prescription Drugs 2015-12-31 245.4 481.134 0.9606112469437653\n",
      "Prescription Drugs 2016-12-31 245.4 511.191 1.083092909535452\n",
      "Hospital Services 1996-12-31 273.7 273.7 0\n",
      "Hospital Services 1997-12-31 273.7 282.5 0.032151991231275164\n",
      "Hospital Services 1998-12-31 273.7 291.4 0.06466934599926924\n",
      "Hospital Services 1999-12-31 273.7 306.3 0.11910851297040564\n",
      "Hospital Services 2000-12-31 273.7 325.3 0.18852758494702238\n",
      "Hospital Services 2001-12-31 273.7 348.3 0.2725611983924005\n",
      "Hospital Services 2002-12-31 273.7 382.4 0.3971501644135915\n",
      "Hospital Services 2003-12-31 273.7 407.0 0.4870295944464743\n",
      "Hospital Services 2004-12-31 273.7 428.0 0.5637559371574717\n",
      "Hospital Services 2005-12-31 273.7 449.7 0.6430398246255024\n",
      "Hospital Services 2006-12-31 273.7 477.2 0.7435147972232371\n",
      "Hospital Services 2007-12-31 273.7 515.677 0.8840957252466205\n",
      "Hospital Services 2008-12-31 273.7 543.585 0.986061381074169\n",
      "Hospital Services 2009-12-31 273.7 581.9680000000001 1.1262988673730365\n",
      "Hospital Services 2010-12-31 273.7 621.1759999999999 1.2695506028498353\n",
      "Hospital Services 2011-12-31 273.7 653.839 1.3888892948483744\n",
      "Hospital Services 2012-12-31 273.7 684.005 1.4991048593350385\n",
      "Hospital Services 2013-12-31 273.7 710.8910000000001 1.5973364998173185\n",
      "Hospital Services 2014-12-31 273.7 743.1519999999999 1.7152064303982462\n",
      "Hospital Services 2015-12-31 273.7 772.596 1.8227840701497993\n",
      "Hospital Services 2016-12-31 273.7 805.623 1.943452685421995\n",
      "Childcare 1996-12-31 131.6 131.6 0\n",
      "Childcare 1997-12-31 131.6 137.6 0.04559270516717325\n",
      "Childcare 1998-12-31 131.6 144.2 0.09574468085106379\n",
      "Childcare 1999-12-31 131.6 151.6 0.1519756838905775\n",
      "Childcare 2000-12-31 131.6 160.1 0.21656534954407297\n",
      "Childcare 2001-12-31 131.6 168.1 0.277355623100304\n",
      "Childcare 2002-12-31 131.6 176.4 0.3404255319148937\n",
      "Childcare 2003-12-31 131.6 183.6 0.3951367781155015\n",
      "Childcare 2004-12-31 131.6 190.0 0.4437689969604864\n",
      "Childcare 2005-12-31 131.6 200.5 0.5235562310030396\n",
      "Childcare 2006-12-31 131.6 211.2 0.6048632218844985\n",
      "Childcare 2007-12-31 131.6 219.405 0.667211246200608\n",
      "Childcare 2008-12-31 131.6 230.326 0.7501975683890578\n",
      "Childcare 2009-12-31 131.6 235.532 0.7897568389057752\n",
      "Childcare 2010-12-31 131.6 244.308 0.8564437689969605\n",
      "Childcare 2011-12-31 131.6 249.713 0.897515197568389\n",
      "Childcare 2012-12-31 131.6 256.385 0.9482142857142857\n",
      "Childcare 2013-12-31 131.6 261.922 0.9902887537993924\n",
      "Childcare 2014-12-31 131.6 267.79900000000004 1.0349468085106386\n",
      "Childcare 2015-12-31 131.6 278.668 1.1175379939209729\n",
      "Childcare 2016-12-31 131.6 286.699 1.1785638297872343\n",
      "College Tuition 1996-12-31 288.3 288.3 0\n",
      "College Tuition 1997-12-31 288.3 301.7 0.04647936177592777\n",
      "College Tuition 1998-12-31 288.3 313.6 0.08775580992022203\n",
      "College Tuition 1999-12-31 288.3 326.1 0.13111342351716965\n",
      "College Tuition 2000-12-31 288.3 340.9 0.1824488380159555\n",
      "College Tuition 2001-12-31 288.3 361.9 0.2552896288588275\n",
      "College Tuition 2002-12-31 288.3 387.4 0.34373916059660065\n",
      "College Tuition 2003-12-31 288.3 425.5 0.4758931668400971\n",
      "College Tuition 2004-12-31 288.3 462.2 0.6031911203607352\n",
      "College Tuition 2005-12-31 288.3 492.8 0.7093305584460631\n",
      "College Tuition 2006-12-31 288.3 527.2 0.8286507110648631\n",
      "College Tuition 2007-12-31 288.3 559.19 0.9396115157821715\n",
      "College Tuition 2008-12-31 288.3 591.804 1.0527367325702393\n",
      "College Tuition 2009-12-31 288.3 627.061 1.1750294831772459\n",
      "College Tuition 2010-12-31 288.3 652.495 1.2632500867152272\n",
      "College Tuition 2011-12-31 288.3 691.768 1.3994727714186612\n",
      "College Tuition 2012-12-31 288.3 719.677 1.496278182448838\n",
      "College Tuition 2013-12-31 288.3 747.7460000000001 1.593638570933056\n",
      "College Tuition 2014-12-31 288.3 773.4069999999999 1.6826465487339572\n",
      "College Tuition 2015-12-31 288.3 800.69 1.7772806104751997\n",
      "College Tuition 2016-12-31 288.3 819.362 1.8420464793617755\n",
      "Medical Care Services 1996-12-31 235.0 235.0 0\n",
      "Medical Care Services 1997-12-31 235.0 241.8 0.028936170212766007\n",
      "Medical Care Services 1998-12-31 235.0 249.6 0.06212765957446806\n",
      "Medical Care Services 1999-12-31 235.0 258.5 0.1\n",
      "Medical Care Services 2000-12-31 235.0 270.4 0.15063829787234032\n",
      "Medical Care Services 2001-12-31 235.0 283.5 0.20638297872340425\n",
      "Medical Care Services 2002-12-31 235.0 299.4 0.2740425531914893\n",
      "Medical Care Services 2003-12-31 235.0 311.9 0.3272340425531914\n",
      "Medical Care Services 2004-12-31 235.0 327.3 0.39276595744680853\n",
      "Medical Care Services 2005-12-31 235.0 342.0 0.4553191489361702\n",
      "Medical Care Services 2006-12-31 235.0 356.0 0.5148936170212766\n",
      "Medical Care Services 2007-12-31 235.0 376.94 0.604\n",
      "Medical Care Services 2008-12-31 235.0 388.267 0.6522\n",
      "Medical Care Services 2009-12-31 235.0 401.452 0.7083063829787234\n",
      "Medical Care Services 2010-12-31 235.0 415.079 0.7662936170212766\n",
      "Medical Care Services 2011-12-31 235.0 430.005 0.8298085106382979\n",
      "Medical Care Services 2012-12-31 235.0 445.955 0.8976808510638297\n",
      "Medical Care Services 2013-12-31 235.0 457.296 0.9459404255319148\n",
      "Medical Care Services 2014-12-31 235.0 468.39300000000003 0.9931617021276598\n",
      "Medical Care Services 2015-12-31 235.0 481.983 1.050991489361702\n",
      "Medical Care Services 2016-12-31 235.0 500.845 1.1312553191489363\n",
      "Utilities 1996-12-31 129.4 129.4 0\n",
      "Utilities 1997-12-31 129.4 130.0 0.004636785162287436\n",
      "Utilities 1998-12-31 129.4 126.6 -0.021638330757341662\n",
      "Utilities 1999-12-31 129.4 129.6 0.001545595054095739\n",
      "Utilities 2000-12-31 129.4 145.3 0.12287480680061828\n",
      "Utilities 2001-12-31 129.4 142.2 0.09891808346213278\n",
      "Utilities 2002-12-31 129.4 144.2 0.11437403400309105\n",
      "Utilities 2003-12-31 129.4 153.6 0.18701700154559495\n",
      "Utilities 2004-12-31 129.4 165.7 0.28052550231839246\n",
      "Utilities 2005-12-31 129.4 191.6 0.4806800618238021\n",
      "Utilities 2006-12-31 129.4 192.6 0.4884080370942812\n",
      "Utilities 2007-12-31 129.4 203.00599999999997 0.5688253477588869\n",
      "Utilities 2008-12-31 129.4 215.18400000000003 0.6629366306027822\n",
      "Utilities 2009-12-31 129.4 208.76 0.6132921174652239\n",
      "Utilities 2010-12-31 129.4 212.505 0.6422333848531684\n",
      "Utilities 2011-12-31 129.4 217.674 0.6821792890262751\n",
      "Utilities 2012-12-31 129.4 218.49599999999998 0.6885316846986087\n",
      "Utilities 2013-12-31 129.4 224.407 0.7342117465224112\n",
      "Utilities 2014-12-31 129.4 231.15 0.7863214837712519\n",
      "Utilities 2015-12-31 129.4 223.521 0.7273647604327664\n",
      "Utilities 2016-12-31 129.4 229.49200000000002 0.7735085007727976\n",
      "Housing (Shelter) 1996-12-31 172.3 172.3 0\n",
      "Housing (Shelter) 1997-12-31 172.3 178.1 0.033662217063261654\n",
      "Housing (Shelter) 1998-12-31 172.3 184.0 0.06790481717933829\n",
      "Housing (Shelter) 1999-12-31 172.3 188.6 0.09460243760882171\n",
      "Housing (Shelter) 2000-12-31 172.3 195.1 0.13232733604178748\n",
      "Housing (Shelter) 2001-12-31 172.3 203.2 0.17933836331979092\n",
      "Housing (Shelter) 2002-12-31 172.3 209.5 0.21590249564712702\n",
      "Housing (Shelter) 2003-12-31 172.3 214.1 0.24260011607661044\n",
      "Housing (Shelter) 2004-12-31 172.3 219.8 0.2756819500870574\n",
      "Housing (Shelter) 2005-12-31 172.3 225.6 0.3093441671503191\n",
      "Housing (Shelter) 2006-12-31 172.3 235.1 0.3644805571677306\n",
      "Housing (Shelter) 2007-12-31 172.3 242.372 0.40668601276842714\n",
      "Housing (Shelter) 2008-12-31 172.3 247.085 0.43403946604759136\n",
      "Housing (Shelter) 2009-12-31 172.3 247.863 0.4385548461984909\n",
      "Housing (Shelter) 2010-12-31 172.3 248.972 0.44499129425420775\n",
      "Housing (Shelter) 2011-12-31 172.3 253.71599999999998 0.47252466627974443\n",
      "Housing (Shelter) 2012-12-31 172.3 259.298 0.5049216482878699\n",
      "Housing (Shelter) 2013-12-31 172.3 265.881 0.5431282646546718\n",
      "Housing (Shelter) 2014-12-31 172.3 273.598 0.5879164248403946\n",
      "Housing (Shelter) 2015-12-31 172.3 282.394 0.6389669181659895\n",
      "Housing (Shelter) 2016-12-31 172.3 292.612 0.6982704585026117\n",
      "Food and Beverage 1996-12-31 156.6 156.6 0\n",
      "Food and Beverage 1997-12-31 156.6 159.1 0.015964240102171137\n",
      "Food and Beverage 1998-12-31 156.6 162.7 0.03895274584929754\n",
      "Food and Beverage 1999-12-31 156.6 165.9 0.059386973180076706\n",
      "Food and Beverage 2000-12-31 156.6 170.5 0.08876117496807157\n",
      "Food and Beverage 2001-12-31 156.6 175.2 0.11877394636015322\n",
      "Food and Beverage 2002-12-31 156.6 177.8 0.13537675606641136\n",
      "Food and Beverage 2003-12-31 156.6 184.1 0.17560664112388252\n",
      "Food and Beverage 2004-12-31 156.6 188.9 0.20625798212005117\n",
      "Food and Beverage 2005-12-31 156.6 193.2 0.23371647509578541\n",
      "Food and Beverage 2006-12-31 156.6 197.4 0.26053639846743304\n",
      "Food and Beverage 2007-12-31 156.6 206.93599999999998 0.3214303959131544\n",
      "Food and Beverage 2008-12-31 156.6 218.83900000000003 0.397439335887612\n",
      "Food and Beverage 2009-12-31 156.6 218.049 0.39239463601532576\n",
      "Food and Beverage 2010-12-31 156.6 221.278 0.4130140485312899\n",
      "Food and Beverage 2011-12-31 156.6 231.13 0.475925925925926\n",
      "Food and Beverage 2012-12-31 156.6 235.23 0.5021072796934866\n",
      "Food and Beverage 2013-12-31 156.6 237.82 0.5186462324393359\n",
      "Food and Beverage 2014-12-31 156.6 245.585 0.5682311621966796\n",
      "Food and Beverage 2015-12-31 156.6 247.468 0.5802554278416348\n",
      "Food and Beverage 2016-12-31 156.6 247.13400000000001 0.5781226053639849\n",
      "All Items 1996-12-31 158.6 158.6 0\n",
      "All Items 1997-12-31 158.6 161.3 0.017023959646910575\n",
      "All Items 1998-12-31 158.6 163.9 0.03341740226986136\n",
      "All Items 1999-12-31 158.6 168.3 0.06116015132408586\n",
      "All Items 2000-12-31 158.6 174.0 0.09709962168978567\n",
      "All Items 2001-12-31 158.6 176.7 0.11412358133669606\n",
      "All Items 2002-12-31 158.6 180.9 0.14060529634300134\n",
      "All Items 2003-12-31 158.6 184.3 0.16204287515762936\n",
      "All Items 2004-12-31 158.6 190.3 0.19987389659520818\n",
      "All Items 2005-12-31 158.6 196.8 0.24085750315258522\n",
      "All Items 2006-12-31 158.6 201.8 0.2723833543505676\n",
      "All Items 2007-12-31 158.6 210.03599999999997 0.32431273644388386\n",
      "All Items 2008-12-31 158.6 210.22799999999998 0.3255233291298864\n",
      "All Items 2009-12-31 158.6 215.949 0.361595208070618\n",
      "All Items 2010-12-31 158.6 219.179 0.38196090794451454\n",
      "All Items 2011-12-31 158.6 225.672 0.42290037831021443\n",
      "All Items 2012-12-31 158.6 229.601 0.44767339218158897\n",
      "All Items 2013-12-31 158.6 233.049 0.4694136191677176\n",
      "All Items 2014-12-31 158.6 234.812 0.48052963430012624\n",
      "All Items 2015-12-31 158.6 236.525 0.49133039092055497\n",
      "All Items 2016-12-31 158.6 241.43200000000002 0.5222698612862549\n"
     ]
    }
   ],
   "source": [
    "final_data_holder = []\n",
    "start_value = -1\n",
    "for i, entry in enumerate(combined_frame_list):\n",
    "    if entry[2] == datetime.date(1996, 12, 31):\n",
    "        start_value = entry[3]\n",
    "        per_change = 0\n",
    "        \n",
    "    elif entry[2] == datetime.date(1997, 12, 31) and entry[1] == 'Cellphone Service':\n",
    "        start_value = entry[3]\n",
    "        per_change = 0\n",
    "    else:\n",
    "        per_change = ((entry[3] - start_value)/start_value)\n",
    "    print(entry[1], entry[2], start_value, entry[3], per_change)\n",
    "    final_data_holder.append([entry[0], entry[1], entry[2], entry[3], start_value,  per_change])"
   ]
  },
  {
   "cell_type": "code",
   "execution_count": 25,
   "metadata": {},
   "outputs": [],
   "source": [
    "final_df = pd.DataFrame(final_data_holder, columns=['Code','Category', 'Year End', 'Base Price', 'Price at Year End', 'Price Change (Percentage)'])"
   ]
  },
  {
   "cell_type": "code",
   "execution_count": 26,
   "metadata": {},
   "outputs": [],
   "source": [
    "cross_tab_df = final_df[['Category', 'Year End', 'Price Change (Percentage)'\n",
    "]]"
   ]
  },
  {
   "cell_type": "code",
   "execution_count": 27,
   "metadata": {},
   "outputs": [],
   "source": [
    "cross_tab = pd.crosstab(final_df['Year End'], final_df['Category'],values=final_df['Price Change (Percentage)'], aggfunc='mean').reset_index()"
   ]
  },
  {
   "cell_type": "code",
   "execution_count": 28,
   "metadata": {},
   "outputs": [
    {
     "data": {
      "text/plain": [
       "['Year End',\n",
       " 'All Items',\n",
       " 'Childcare',\n",
       " 'College Tuition',\n",
       " 'Food and Beverage',\n",
       " 'Hospital Services',\n",
       " 'Housing (Shelter)',\n",
       " 'Insulin (Humalog)',\n",
       " 'Medical Care Services',\n",
       " 'Prescription Drugs',\n",
       " 'Utilities']"
      ]
     },
     "execution_count": 28,
     "metadata": {},
     "output_type": "execute_result"
    }
   ],
   "source": [
    "cross_tab.columns.tolist()"
   ]
  },
  {
   "cell_type": "markdown",
   "metadata": {},
   "source": [
    "# Plotly"
   ]
  },
  {
   "cell_type": "code",
   "execution_count": 32,
   "metadata": {},
   "outputs": [
    {
     "data": {
      "application/vnd.plotly.v1+json": {
       "config": {
        "plotlyServerURL": "https://plot.ly"
       },
       "data": [
        {
         "hovertemplate": "variable=All Items<br>Year End=%{x}<br>value=%{y}<extra></extra>",
         "legendgroup": "All Items",
         "line": {
          "color": "#636efa",
          "dash": "solid"
         },
         "mode": "markers+lines",
         "name": "All Items",
         "orientation": "v",
         "showlegend": true,
         "type": "scatter",
         "x": [
          "1996-12-31",
          "1997-12-31",
          "1998-12-31",
          "1999-12-31",
          "2000-12-31",
          "2001-12-31",
          "2002-12-31",
          "2003-12-31",
          "2004-12-31",
          "2005-12-31",
          "2006-12-31",
          "2007-12-31",
          "2008-12-31",
          "2009-12-31",
          "2010-12-31",
          "2011-12-31",
          "2012-12-31",
          "2013-12-31",
          "2014-12-31",
          "2015-12-31",
          "2016-12-31"
         ],
         "xaxis": "x",
         "y": [
          0,
          0.017023959646910575,
          0.03341740226986136,
          0.06116015132408586,
          0.09709962168978567,
          0.11412358133669606,
          0.14060529634300134,
          0.16204287515762936,
          0.19987389659520818,
          0.24085750315258522,
          0.2723833543505676,
          0.32431273644388386,
          0.3255233291298864,
          0.361595208070618,
          0.38196090794451454,
          0.42290037831021443,
          0.44767339218158897,
          0.4694136191677176,
          0.48052963430012624,
          0.49133039092055497,
          0.5222698612862549
         ],
         "yaxis": "y"
        },
        {
         "hovertemplate": "variable=Childcare<br>Year End=%{x}<br>value=%{y}<extra></extra>",
         "legendgroup": "Childcare",
         "line": {
          "color": "#EF553B",
          "dash": "solid"
         },
         "mode": "markers+lines",
         "name": "Childcare",
         "orientation": "v",
         "showlegend": true,
         "type": "scatter",
         "x": [
          "1996-12-31",
          "1997-12-31",
          "1998-12-31",
          "1999-12-31",
          "2000-12-31",
          "2001-12-31",
          "2002-12-31",
          "2003-12-31",
          "2004-12-31",
          "2005-12-31",
          "2006-12-31",
          "2007-12-31",
          "2008-12-31",
          "2009-12-31",
          "2010-12-31",
          "2011-12-31",
          "2012-12-31",
          "2013-12-31",
          "2014-12-31",
          "2015-12-31",
          "2016-12-31"
         ],
         "xaxis": "x",
         "y": [
          0,
          0.04559270516717325,
          0.09574468085106379,
          0.1519756838905775,
          0.21656534954407297,
          0.277355623100304,
          0.3404255319148937,
          0.3951367781155015,
          0.4437689969604864,
          0.5235562310030396,
          0.6048632218844985,
          0.667211246200608,
          0.7501975683890578,
          0.7897568389057752,
          0.8564437689969605,
          0.897515197568389,
          0.9482142857142857,
          0.9902887537993924,
          1.0349468085106386,
          1.1175379939209729,
          1.1785638297872343
         ],
         "yaxis": "y"
        },
        {
         "hovertemplate": "variable=College Tuition<br>Year End=%{x}<br>value=%{y}<extra></extra>",
         "legendgroup": "College Tuition",
         "line": {
          "color": "#00cc96",
          "dash": "solid"
         },
         "mode": "markers+lines",
         "name": "College Tuition",
         "orientation": "v",
         "showlegend": true,
         "type": "scatter",
         "x": [
          "1996-12-31",
          "1997-12-31",
          "1998-12-31",
          "1999-12-31",
          "2000-12-31",
          "2001-12-31",
          "2002-12-31",
          "2003-12-31",
          "2004-12-31",
          "2005-12-31",
          "2006-12-31",
          "2007-12-31",
          "2008-12-31",
          "2009-12-31",
          "2010-12-31",
          "2011-12-31",
          "2012-12-31",
          "2013-12-31",
          "2014-12-31",
          "2015-12-31",
          "2016-12-31"
         ],
         "xaxis": "x",
         "y": [
          0,
          0.04647936177592777,
          0.08775580992022203,
          0.13111342351716965,
          0.1824488380159555,
          0.2552896288588275,
          0.34373916059660065,
          0.4758931668400971,
          0.6031911203607352,
          0.7093305584460631,
          0.8286507110648631,
          0.9396115157821715,
          1.0527367325702393,
          1.1750294831772459,
          1.2632500867152272,
          1.3994727714186612,
          1.496278182448838,
          1.593638570933056,
          1.6826465487339572,
          1.7772806104751997,
          1.8420464793617755
         ],
         "yaxis": "y"
        },
        {
         "hovertemplate": "variable=Food and Beverage<br>Year End=%{x}<br>value=%{y}<extra></extra>",
         "legendgroup": "Food and Beverage",
         "line": {
          "color": "#ab63fa",
          "dash": "solid"
         },
         "mode": "markers+lines",
         "name": "Food and Beverage",
         "orientation": "v",
         "showlegend": true,
         "type": "scatter",
         "x": [
          "1996-12-31",
          "1997-12-31",
          "1998-12-31",
          "1999-12-31",
          "2000-12-31",
          "2001-12-31",
          "2002-12-31",
          "2003-12-31",
          "2004-12-31",
          "2005-12-31",
          "2006-12-31",
          "2007-12-31",
          "2008-12-31",
          "2009-12-31",
          "2010-12-31",
          "2011-12-31",
          "2012-12-31",
          "2013-12-31",
          "2014-12-31",
          "2015-12-31",
          "2016-12-31"
         ],
         "xaxis": "x",
         "y": [
          0,
          0.015964240102171137,
          0.03895274584929754,
          0.059386973180076706,
          0.08876117496807157,
          0.11877394636015322,
          0.13537675606641136,
          0.17560664112388252,
          0.20625798212005117,
          0.23371647509578541,
          0.26053639846743304,
          0.3214303959131544,
          0.397439335887612,
          0.39239463601532576,
          0.4130140485312899,
          0.475925925925926,
          0.5021072796934866,
          0.5186462324393359,
          0.5682311621966796,
          0.5802554278416348,
          0.5781226053639849
         ],
         "yaxis": "y"
        },
        {
         "hovertemplate": "variable=Hospital Services<br>Year End=%{x}<br>value=%{y}<extra></extra>",
         "legendgroup": "Hospital Services",
         "line": {
          "color": "#FFA15A",
          "dash": "solid"
         },
         "mode": "markers+lines",
         "name": "Hospital Services",
         "orientation": "v",
         "showlegend": true,
         "type": "scatter",
         "x": [
          "1996-12-31",
          "1997-12-31",
          "1998-12-31",
          "1999-12-31",
          "2000-12-31",
          "2001-12-31",
          "2002-12-31",
          "2003-12-31",
          "2004-12-31",
          "2005-12-31",
          "2006-12-31",
          "2007-12-31",
          "2008-12-31",
          "2009-12-31",
          "2010-12-31",
          "2011-12-31",
          "2012-12-31",
          "2013-12-31",
          "2014-12-31",
          "2015-12-31",
          "2016-12-31"
         ],
         "xaxis": "x",
         "y": [
          0,
          0.032151991231275164,
          0.06466934599926924,
          0.11910851297040564,
          0.18852758494702238,
          0.2725611983924005,
          0.3971501644135915,
          0.4870295944464743,
          0.5637559371574717,
          0.6430398246255024,
          0.7435147972232371,
          0.8840957252466205,
          0.986061381074169,
          1.1262988673730365,
          1.2695506028498353,
          1.3888892948483744,
          1.4991048593350385,
          1.5973364998173185,
          1.7152064303982462,
          1.8227840701497993,
          1.943452685421995
         ],
         "yaxis": "y"
        },
        {
         "hovertemplate": "variable=Housing (Shelter)<br>Year End=%{x}<br>value=%{y}<extra></extra>",
         "legendgroup": "Housing (Shelter)",
         "line": {
          "color": "#19d3f3",
          "dash": "solid"
         },
         "mode": "markers+lines",
         "name": "Housing (Shelter)",
         "orientation": "v",
         "showlegend": true,
         "type": "scatter",
         "x": [
          "1996-12-31",
          "1997-12-31",
          "1998-12-31",
          "1999-12-31",
          "2000-12-31",
          "2001-12-31",
          "2002-12-31",
          "2003-12-31",
          "2004-12-31",
          "2005-12-31",
          "2006-12-31",
          "2007-12-31",
          "2008-12-31",
          "2009-12-31",
          "2010-12-31",
          "2011-12-31",
          "2012-12-31",
          "2013-12-31",
          "2014-12-31",
          "2015-12-31",
          "2016-12-31"
         ],
         "xaxis": "x",
         "y": [
          0,
          0.033662217063261654,
          0.06790481717933829,
          0.09460243760882171,
          0.13232733604178748,
          0.17933836331979092,
          0.21590249564712702,
          0.24260011607661044,
          0.2756819500870574,
          0.3093441671503191,
          0.3644805571677306,
          0.40668601276842714,
          0.43403946604759136,
          0.4385548461984909,
          0.44499129425420775,
          0.47252466627974443,
          0.5049216482878699,
          0.5431282646546718,
          0.5879164248403946,
          0.6389669181659895,
          0.6982704585026117
         ],
         "yaxis": "y"
        },
        {
         "hovertemplate": "variable=Insulin (Humalog)<br>Year End=%{x}<br>value=%{y}<extra></extra>",
         "legendgroup": "Insulin (Humalog)",
         "line": {
          "color": "#FF6692",
          "dash": "solid"
         },
         "mode": "markers+lines",
         "name": "Insulin (Humalog)",
         "orientation": "v",
         "showlegend": true,
         "type": "scatter",
         "x": [
          "1996-12-31",
          "1997-12-31",
          "1998-12-31",
          "1999-12-31",
          "2000-12-31",
          "2001-12-31",
          "2002-12-31",
          "2003-12-31",
          "2004-12-31",
          "2005-12-31",
          "2006-12-31",
          "2007-12-31",
          "2008-12-31",
          "2009-12-31",
          "2010-12-31",
          "2011-12-31",
          "2012-12-31",
          "2013-12-31",
          "2014-12-31",
          "2015-12-31",
          "2016-12-31"
         ],
         "xaxis": "x",
         "y": [
          0,
          0.05572677301610769,
          0.20009483824349242,
          0.35455935091254576,
          0.6975500919470069,
          0.9604076613037252,
          1.3244022429064894,
          1.5920117679697083,
          1.8197134810678999,
          2.1249650579758854,
          2.3780549357631737,
          2.775348546856732,
          3.2877621783202176,
          3.7169150589583047,
          4.256156168040233,
          4.8233537043202315,
          5.6219992491482085,
          6.984460201313282,
          8.727784253975523,
          10.27575858462076,
          11.549517645778645
         ],
         "yaxis": "y"
        },
        {
         "hovertemplate": "variable=Medical Care Services<br>Year End=%{x}<br>value=%{y}<extra></extra>",
         "legendgroup": "Medical Care Services",
         "line": {
          "color": "#B6E880",
          "dash": "solid"
         },
         "mode": "markers+lines",
         "name": "Medical Care Services",
         "orientation": "v",
         "showlegend": true,
         "type": "scatter",
         "x": [
          "1996-12-31",
          "1997-12-31",
          "1998-12-31",
          "1999-12-31",
          "2000-12-31",
          "2001-12-31",
          "2002-12-31",
          "2003-12-31",
          "2004-12-31",
          "2005-12-31",
          "2006-12-31",
          "2007-12-31",
          "2008-12-31",
          "2009-12-31",
          "2010-12-31",
          "2011-12-31",
          "2012-12-31",
          "2013-12-31",
          "2014-12-31",
          "2015-12-31",
          "2016-12-31"
         ],
         "xaxis": "x",
         "y": [
          0,
          0.028936170212766007,
          0.06212765957446806,
          0.1,
          0.15063829787234032,
          0.20638297872340425,
          0.2740425531914893,
          0.3272340425531914,
          0.39276595744680853,
          0.4553191489361702,
          0.5148936170212766,
          0.604,
          0.6522,
          0.7083063829787234,
          0.7662936170212766,
          0.8298085106382979,
          0.8976808510638297,
          0.9459404255319148,
          0.9931617021276598,
          1.050991489361702,
          1.1312553191489363
         ],
         "yaxis": "y"
        },
        {
         "hovertemplate": "variable=Prescription Drugs<br>Year End=%{x}<br>value=%{y}<extra></extra>",
         "legendgroup": "Prescription Drugs",
         "line": {
          "color": "#FF97FF",
          "dash": "solid"
         },
         "mode": "markers+lines",
         "name": "Prescription Drugs",
         "orientation": "v",
         "showlegend": true,
         "type": "scatter",
         "x": [
          "1996-12-31",
          "1997-12-31",
          "1998-12-31",
          "1999-12-31",
          "2000-12-31",
          "2001-12-31",
          "2002-12-31",
          "2003-12-31",
          "2004-12-31",
          "2005-12-31",
          "2006-12-31",
          "2007-12-31",
          "2008-12-31",
          "2009-12-31",
          "2010-12-31",
          "2011-12-31",
          "2012-12-31",
          "2013-12-31",
          "2014-12-31",
          "2015-12-31",
          "2016-12-31"
         ],
         "xaxis": "x",
         "y": [
          0,
          0.02485737571312141,
          0.07497962510187452,
          0.14058679706601454,
          0.18174409127954358,
          0.25224123879380606,
          0.308883455582722,
          0.34107579462102694,
          0.38834555827220857,
          0.4494702526487367,
          0.47636511817440913,
          0.5256275468622656,
          0.5482599837000817,
          0.6158353708231459,
          0.6820945395273024,
          0.7514955175224122,
          0.7844539527302362,
          0.7994661776691117,
          0.9143357783211085,
          0.9606112469437653,
          1.083092909535452
         ],
         "yaxis": "y"
        },
        {
         "hovertemplate": "variable=Utilities<br>Year End=%{x}<br>value=%{y}<extra></extra>",
         "legendgroup": "Utilities",
         "line": {
          "color": "#FECB52",
          "dash": "solid"
         },
         "mode": "markers+lines",
         "name": "Utilities",
         "orientation": "v",
         "showlegend": true,
         "type": "scatter",
         "x": [
          "1996-12-31",
          "1997-12-31",
          "1998-12-31",
          "1999-12-31",
          "2000-12-31",
          "2001-12-31",
          "2002-12-31",
          "2003-12-31",
          "2004-12-31",
          "2005-12-31",
          "2006-12-31",
          "2007-12-31",
          "2008-12-31",
          "2009-12-31",
          "2010-12-31",
          "2011-12-31",
          "2012-12-31",
          "2013-12-31",
          "2014-12-31",
          "2015-12-31",
          "2016-12-31"
         ],
         "xaxis": "x",
         "y": [
          0,
          0.004636785162287436,
          -0.021638330757341662,
          0.001545595054095739,
          0.12287480680061828,
          0.09891808346213278,
          0.11437403400309105,
          0.18701700154559495,
          0.28052550231839246,
          0.4806800618238021,
          0.4884080370942812,
          0.5688253477588869,
          0.6629366306027822,
          0.6132921174652239,
          0.6422333848531684,
          0.6821792890262751,
          0.6885316846986087,
          0.7342117465224112,
          0.7863214837712519,
          0.7273647604327664,
          0.7735085007727976
         ],
         "yaxis": "y"
        }
       ],
       "layout": {
        "font": {
         "color": "#2F284F",
         "family": "Helvetica",
         "size": 16
        },
        "hoverlabel": {
         "bgcolor": "white",
         "font": {
          "family": "Helvetica",
          "size": 12
         }
        },
        "legend": {
         "title": {
          "text": "Goods"
         },
         "tracegroupgap": 0
        },
        "margin": {
         "t": 60
        },
        "template": {
         "data": {
          "bar": [
           {
            "error_x": {
             "color": "#2a3f5f"
            },
            "error_y": {
             "color": "#2a3f5f"
            },
            "marker": {
             "line": {
              "color": "#E5ECF6",
              "width": 0.5
             }
            },
            "type": "bar"
           }
          ],
          "barpolar": [
           {
            "marker": {
             "line": {
              "color": "#E5ECF6",
              "width": 0.5
             }
            },
            "type": "barpolar"
           }
          ],
          "carpet": [
           {
            "aaxis": {
             "endlinecolor": "#2a3f5f",
             "gridcolor": "white",
             "linecolor": "white",
             "minorgridcolor": "white",
             "startlinecolor": "#2a3f5f"
            },
            "baxis": {
             "endlinecolor": "#2a3f5f",
             "gridcolor": "white",
             "linecolor": "white",
             "minorgridcolor": "white",
             "startlinecolor": "#2a3f5f"
            },
            "type": "carpet"
           }
          ],
          "choropleth": [
           {
            "colorbar": {
             "outlinewidth": 0,
             "ticks": ""
            },
            "type": "choropleth"
           }
          ],
          "contour": [
           {
            "colorbar": {
             "outlinewidth": 0,
             "ticks": ""
            },
            "colorscale": [
             [
              0,
              "#0d0887"
             ],
             [
              0.1111111111111111,
              "#46039f"
             ],
             [
              0.2222222222222222,
              "#7201a8"
             ],
             [
              0.3333333333333333,
              "#9c179e"
             ],
             [
              0.4444444444444444,
              "#bd3786"
             ],
             [
              0.5555555555555556,
              "#d8576b"
             ],
             [
              0.6666666666666666,
              "#ed7953"
             ],
             [
              0.7777777777777778,
              "#fb9f3a"
             ],
             [
              0.8888888888888888,
              "#fdca26"
             ],
             [
              1,
              "#f0f921"
             ]
            ],
            "type": "contour"
           }
          ],
          "contourcarpet": [
           {
            "colorbar": {
             "outlinewidth": 0,
             "ticks": ""
            },
            "type": "contourcarpet"
           }
          ],
          "heatmap": [
           {
            "colorbar": {
             "outlinewidth": 0,
             "ticks": ""
            },
            "colorscale": [
             [
              0,
              "#0d0887"
             ],
             [
              0.1111111111111111,
              "#46039f"
             ],
             [
              0.2222222222222222,
              "#7201a8"
             ],
             [
              0.3333333333333333,
              "#9c179e"
             ],
             [
              0.4444444444444444,
              "#bd3786"
             ],
             [
              0.5555555555555556,
              "#d8576b"
             ],
             [
              0.6666666666666666,
              "#ed7953"
             ],
             [
              0.7777777777777778,
              "#fb9f3a"
             ],
             [
              0.8888888888888888,
              "#fdca26"
             ],
             [
              1,
              "#f0f921"
             ]
            ],
            "type": "heatmap"
           }
          ],
          "heatmapgl": [
           {
            "colorbar": {
             "outlinewidth": 0,
             "ticks": ""
            },
            "colorscale": [
             [
              0,
              "#0d0887"
             ],
             [
              0.1111111111111111,
              "#46039f"
             ],
             [
              0.2222222222222222,
              "#7201a8"
             ],
             [
              0.3333333333333333,
              "#9c179e"
             ],
             [
              0.4444444444444444,
              "#bd3786"
             ],
             [
              0.5555555555555556,
              "#d8576b"
             ],
             [
              0.6666666666666666,
              "#ed7953"
             ],
             [
              0.7777777777777778,
              "#fb9f3a"
             ],
             [
              0.8888888888888888,
              "#fdca26"
             ],
             [
              1,
              "#f0f921"
             ]
            ],
            "type": "heatmapgl"
           }
          ],
          "histogram": [
           {
            "marker": {
             "colorbar": {
              "outlinewidth": 0,
              "ticks": ""
             }
            },
            "type": "histogram"
           }
          ],
          "histogram2d": [
           {
            "colorbar": {
             "outlinewidth": 0,
             "ticks": ""
            },
            "colorscale": [
             [
              0,
              "#0d0887"
             ],
             [
              0.1111111111111111,
              "#46039f"
             ],
             [
              0.2222222222222222,
              "#7201a8"
             ],
             [
              0.3333333333333333,
              "#9c179e"
             ],
             [
              0.4444444444444444,
              "#bd3786"
             ],
             [
              0.5555555555555556,
              "#d8576b"
             ],
             [
              0.6666666666666666,
              "#ed7953"
             ],
             [
              0.7777777777777778,
              "#fb9f3a"
             ],
             [
              0.8888888888888888,
              "#fdca26"
             ],
             [
              1,
              "#f0f921"
             ]
            ],
            "type": "histogram2d"
           }
          ],
          "histogram2dcontour": [
           {
            "colorbar": {
             "outlinewidth": 0,
             "ticks": ""
            },
            "colorscale": [
             [
              0,
              "#0d0887"
             ],
             [
              0.1111111111111111,
              "#46039f"
             ],
             [
              0.2222222222222222,
              "#7201a8"
             ],
             [
              0.3333333333333333,
              "#9c179e"
             ],
             [
              0.4444444444444444,
              "#bd3786"
             ],
             [
              0.5555555555555556,
              "#d8576b"
             ],
             [
              0.6666666666666666,
              "#ed7953"
             ],
             [
              0.7777777777777778,
              "#fb9f3a"
             ],
             [
              0.8888888888888888,
              "#fdca26"
             ],
             [
              1,
              "#f0f921"
             ]
            ],
            "type": "histogram2dcontour"
           }
          ],
          "mesh3d": [
           {
            "colorbar": {
             "outlinewidth": 0,
             "ticks": ""
            },
            "type": "mesh3d"
           }
          ],
          "parcoords": [
           {
            "line": {
             "colorbar": {
              "outlinewidth": 0,
              "ticks": ""
             }
            },
            "type": "parcoords"
           }
          ],
          "pie": [
           {
            "automargin": true,
            "type": "pie"
           }
          ],
          "scatter": [
           {
            "marker": {
             "colorbar": {
              "outlinewidth": 0,
              "ticks": ""
             }
            },
            "type": "scatter"
           }
          ],
          "scatter3d": [
           {
            "line": {
             "colorbar": {
              "outlinewidth": 0,
              "ticks": ""
             }
            },
            "marker": {
             "colorbar": {
              "outlinewidth": 0,
              "ticks": ""
             }
            },
            "type": "scatter3d"
           }
          ],
          "scattercarpet": [
           {
            "marker": {
             "colorbar": {
              "outlinewidth": 0,
              "ticks": ""
             }
            },
            "type": "scattercarpet"
           }
          ],
          "scattergeo": [
           {
            "marker": {
             "colorbar": {
              "outlinewidth": 0,
              "ticks": ""
             }
            },
            "type": "scattergeo"
           }
          ],
          "scattergl": [
           {
            "marker": {
             "colorbar": {
              "outlinewidth": 0,
              "ticks": ""
             }
            },
            "type": "scattergl"
           }
          ],
          "scattermapbox": [
           {
            "marker": {
             "colorbar": {
              "outlinewidth": 0,
              "ticks": ""
             }
            },
            "type": "scattermapbox"
           }
          ],
          "scatterpolar": [
           {
            "marker": {
             "colorbar": {
              "outlinewidth": 0,
              "ticks": ""
             }
            },
            "type": "scatterpolar"
           }
          ],
          "scatterpolargl": [
           {
            "marker": {
             "colorbar": {
              "outlinewidth": 0,
              "ticks": ""
             }
            },
            "type": "scatterpolargl"
           }
          ],
          "scatterternary": [
           {
            "marker": {
             "colorbar": {
              "outlinewidth": 0,
              "ticks": ""
             }
            },
            "type": "scatterternary"
           }
          ],
          "surface": [
           {
            "colorbar": {
             "outlinewidth": 0,
             "ticks": ""
            },
            "colorscale": [
             [
              0,
              "#0d0887"
             ],
             [
              0.1111111111111111,
              "#46039f"
             ],
             [
              0.2222222222222222,
              "#7201a8"
             ],
             [
              0.3333333333333333,
              "#9c179e"
             ],
             [
              0.4444444444444444,
              "#bd3786"
             ],
             [
              0.5555555555555556,
              "#d8576b"
             ],
             [
              0.6666666666666666,
              "#ed7953"
             ],
             [
              0.7777777777777778,
              "#fb9f3a"
             ],
             [
              0.8888888888888888,
              "#fdca26"
             ],
             [
              1,
              "#f0f921"
             ]
            ],
            "type": "surface"
           }
          ],
          "table": [
           {
            "cells": {
             "fill": {
              "color": "#EBF0F8"
             },
             "line": {
              "color": "white"
             }
            },
            "header": {
             "fill": {
              "color": "#C8D4E3"
             },
             "line": {
              "color": "white"
             }
            },
            "type": "table"
           }
          ]
         },
         "layout": {
          "annotationdefaults": {
           "arrowcolor": "#2a3f5f",
           "arrowhead": 0,
           "arrowwidth": 1
          },
          "autotypenumbers": "strict",
          "coloraxis": {
           "colorbar": {
            "outlinewidth": 0,
            "ticks": ""
           }
          },
          "colorscale": {
           "diverging": [
            [
             0,
             "#8e0152"
            ],
            [
             0.1,
             "#c51b7d"
            ],
            [
             0.2,
             "#de77ae"
            ],
            [
             0.3,
             "#f1b6da"
            ],
            [
             0.4,
             "#fde0ef"
            ],
            [
             0.5,
             "#f7f7f7"
            ],
            [
             0.6,
             "#e6f5d0"
            ],
            [
             0.7,
             "#b8e186"
            ],
            [
             0.8,
             "#7fbc41"
            ],
            [
             0.9,
             "#4d9221"
            ],
            [
             1,
             "#276419"
            ]
           ],
           "sequential": [
            [
             0,
             "#0d0887"
            ],
            [
             0.1111111111111111,
             "#46039f"
            ],
            [
             0.2222222222222222,
             "#7201a8"
            ],
            [
             0.3333333333333333,
             "#9c179e"
            ],
            [
             0.4444444444444444,
             "#bd3786"
            ],
            [
             0.5555555555555556,
             "#d8576b"
            ],
            [
             0.6666666666666666,
             "#ed7953"
            ],
            [
             0.7777777777777778,
             "#fb9f3a"
            ],
            [
             0.8888888888888888,
             "#fdca26"
            ],
            [
             1,
             "#f0f921"
            ]
           ],
           "sequentialminus": [
            [
             0,
             "#0d0887"
            ],
            [
             0.1111111111111111,
             "#46039f"
            ],
            [
             0.2222222222222222,
             "#7201a8"
            ],
            [
             0.3333333333333333,
             "#9c179e"
            ],
            [
             0.4444444444444444,
             "#bd3786"
            ],
            [
             0.5555555555555556,
             "#d8576b"
            ],
            [
             0.6666666666666666,
             "#ed7953"
            ],
            [
             0.7777777777777778,
             "#fb9f3a"
            ],
            [
             0.8888888888888888,
             "#fdca26"
            ],
            [
             1,
             "#f0f921"
            ]
           ]
          },
          "colorway": [
           "#636efa",
           "#EF553B",
           "#00cc96",
           "#ab63fa",
           "#FFA15A",
           "#19d3f3",
           "#FF6692",
           "#B6E880",
           "#FF97FF",
           "#FECB52"
          ],
          "font": {
           "color": "#2a3f5f"
          },
          "geo": {
           "bgcolor": "white",
           "lakecolor": "white",
           "landcolor": "#E5ECF6",
           "showlakes": true,
           "showland": true,
           "subunitcolor": "white"
          },
          "hoverlabel": {
           "align": "left"
          },
          "hovermode": "closest",
          "mapbox": {
           "style": "light"
          },
          "paper_bgcolor": "white",
          "plot_bgcolor": "#E5ECF6",
          "polar": {
           "angularaxis": {
            "gridcolor": "white",
            "linecolor": "white",
            "ticks": ""
           },
           "bgcolor": "#E5ECF6",
           "radialaxis": {
            "gridcolor": "white",
            "linecolor": "white",
            "ticks": ""
           }
          },
          "scene": {
           "xaxis": {
            "backgroundcolor": "#E5ECF6",
            "gridcolor": "white",
            "gridwidth": 2,
            "linecolor": "white",
            "showbackground": true,
            "ticks": "",
            "zerolinecolor": "white"
           },
           "yaxis": {
            "backgroundcolor": "#E5ECF6",
            "gridcolor": "white",
            "gridwidth": 2,
            "linecolor": "white",
            "showbackground": true,
            "ticks": "",
            "zerolinecolor": "white"
           },
           "zaxis": {
            "backgroundcolor": "#E5ECF6",
            "gridcolor": "white",
            "gridwidth": 2,
            "linecolor": "white",
            "showbackground": true,
            "ticks": "",
            "zerolinecolor": "white"
           }
          },
          "shapedefaults": {
           "line": {
            "color": "#2a3f5f"
           }
          },
          "ternary": {
           "aaxis": {
            "gridcolor": "white",
            "linecolor": "white",
            "ticks": ""
           },
           "baxis": {
            "gridcolor": "white",
            "linecolor": "white",
            "ticks": ""
           },
           "bgcolor": "#E5ECF6",
           "caxis": {
            "gridcolor": "white",
            "linecolor": "white",
            "ticks": ""
           }
          },
          "title": {
           "x": 0.05
          },
          "xaxis": {
           "automargin": true,
           "gridcolor": "white",
           "linecolor": "white",
           "ticks": "",
           "title": {
            "standoff": 15
           },
           "zerolinecolor": "white",
           "zerolinewidth": 2
          },
          "yaxis": {
           "automargin": true,
           "gridcolor": "white",
           "linecolor": "white",
           "ticks": "",
           "title": {
            "standoff": 15
           },
           "zerolinecolor": "white",
           "zerolinewidth": 2
          }
         }
        },
        "title": {
         "text": "Price of Insulin vs. the Price of Other Goods"
        },
        "xaxis": {
         "anchor": "y",
         "domain": [
          0,
          1
         ],
         "nticks": 20,
         "title": {
          "text": "Year End"
         }
        },
        "yaxis": {
         "anchor": "x",
         "domain": [
          0,
          1
         ],
         "nticks": 20,
         "tickformat": "%",
         "title": {
          "text": "Percentage Change Since 1996"
         }
        }
       }
      },
      "text/html": [
       "<div>                            <div id=\"64f59335-1683-4d0a-9768-83363777e3ab\" class=\"plotly-graph-div\" style=\"height:525px; width:100%;\"></div>            <script type=\"text/javascript\">                require([\"plotly\"], function(Plotly) {                    window.PLOTLYENV=window.PLOTLYENV || {};                                    if (document.getElementById(\"64f59335-1683-4d0a-9768-83363777e3ab\")) {                    Plotly.newPlot(                        \"64f59335-1683-4d0a-9768-83363777e3ab\",                        [{\"hovertemplate\": \"variable=All Items<br>Year End=%{x}<br>value=%{y}<extra></extra>\", \"legendgroup\": \"All Items\", \"line\": {\"color\": \"#636efa\", \"dash\": \"solid\"}, \"mode\": \"markers+lines\", \"name\": \"All Items\", \"orientation\": \"v\", \"showlegend\": true, \"type\": \"scatter\", \"x\": [\"1996-12-31\", \"1997-12-31\", \"1998-12-31\", \"1999-12-31\", \"2000-12-31\", \"2001-12-31\", \"2002-12-31\", \"2003-12-31\", \"2004-12-31\", \"2005-12-31\", \"2006-12-31\", \"2007-12-31\", \"2008-12-31\", \"2009-12-31\", \"2010-12-31\", \"2011-12-31\", \"2012-12-31\", \"2013-12-31\", \"2014-12-31\", \"2015-12-31\", \"2016-12-31\"], \"xaxis\": \"x\", \"y\": [0.0, 0.017023959646910575, 0.03341740226986136, 0.06116015132408586, 0.09709962168978567, 0.11412358133669606, 0.14060529634300134, 0.16204287515762936, 0.19987389659520818, 0.24085750315258522, 0.2723833543505676, 0.32431273644388386, 0.3255233291298864, 0.361595208070618, 0.38196090794451454, 0.42290037831021443, 0.44767339218158897, 0.4694136191677176, 0.48052963430012624, 0.49133039092055497, 0.5222698612862549], \"yaxis\": \"y\"}, {\"hovertemplate\": \"variable=Childcare<br>Year End=%{x}<br>value=%{y}<extra></extra>\", \"legendgroup\": \"Childcare\", \"line\": {\"color\": \"#EF553B\", \"dash\": \"solid\"}, \"mode\": \"markers+lines\", \"name\": \"Childcare\", \"orientation\": \"v\", \"showlegend\": true, \"type\": \"scatter\", \"x\": [\"1996-12-31\", \"1997-12-31\", \"1998-12-31\", \"1999-12-31\", \"2000-12-31\", \"2001-12-31\", \"2002-12-31\", \"2003-12-31\", \"2004-12-31\", \"2005-12-31\", \"2006-12-31\", \"2007-12-31\", \"2008-12-31\", \"2009-12-31\", \"2010-12-31\", \"2011-12-31\", \"2012-12-31\", \"2013-12-31\", \"2014-12-31\", \"2015-12-31\", \"2016-12-31\"], \"xaxis\": \"x\", \"y\": [0.0, 0.04559270516717325, 0.09574468085106379, 0.1519756838905775, 0.21656534954407297, 0.277355623100304, 0.3404255319148937, 0.3951367781155015, 0.4437689969604864, 0.5235562310030396, 0.6048632218844985, 0.667211246200608, 0.7501975683890578, 0.7897568389057752, 0.8564437689969605, 0.897515197568389, 0.9482142857142857, 0.9902887537993924, 1.0349468085106386, 1.1175379939209729, 1.1785638297872343], \"yaxis\": \"y\"}, {\"hovertemplate\": \"variable=College Tuition<br>Year End=%{x}<br>value=%{y}<extra></extra>\", \"legendgroup\": \"College Tuition\", \"line\": {\"color\": \"#00cc96\", \"dash\": \"solid\"}, \"mode\": \"markers+lines\", \"name\": \"College Tuition\", \"orientation\": \"v\", \"showlegend\": true, \"type\": \"scatter\", \"x\": [\"1996-12-31\", \"1997-12-31\", \"1998-12-31\", \"1999-12-31\", \"2000-12-31\", \"2001-12-31\", \"2002-12-31\", \"2003-12-31\", \"2004-12-31\", \"2005-12-31\", \"2006-12-31\", \"2007-12-31\", \"2008-12-31\", \"2009-12-31\", \"2010-12-31\", \"2011-12-31\", \"2012-12-31\", \"2013-12-31\", \"2014-12-31\", \"2015-12-31\", \"2016-12-31\"], \"xaxis\": \"x\", \"y\": [0.0, 0.04647936177592777, 0.08775580992022203, 0.13111342351716965, 0.1824488380159555, 0.2552896288588275, 0.34373916059660065, 0.4758931668400971, 0.6031911203607352, 0.7093305584460631, 0.8286507110648631, 0.9396115157821715, 1.0527367325702393, 1.1750294831772459, 1.2632500867152272, 1.3994727714186612, 1.496278182448838, 1.593638570933056, 1.6826465487339572, 1.7772806104751997, 1.8420464793617755], \"yaxis\": \"y\"}, {\"hovertemplate\": \"variable=Food and Beverage<br>Year End=%{x}<br>value=%{y}<extra></extra>\", \"legendgroup\": \"Food and Beverage\", \"line\": {\"color\": \"#ab63fa\", \"dash\": \"solid\"}, \"mode\": \"markers+lines\", \"name\": \"Food and Beverage\", \"orientation\": \"v\", \"showlegend\": true, \"type\": \"scatter\", \"x\": [\"1996-12-31\", \"1997-12-31\", \"1998-12-31\", \"1999-12-31\", \"2000-12-31\", \"2001-12-31\", \"2002-12-31\", \"2003-12-31\", \"2004-12-31\", \"2005-12-31\", \"2006-12-31\", \"2007-12-31\", \"2008-12-31\", \"2009-12-31\", \"2010-12-31\", \"2011-12-31\", \"2012-12-31\", \"2013-12-31\", \"2014-12-31\", \"2015-12-31\", \"2016-12-31\"], \"xaxis\": \"x\", \"y\": [0.0, 0.015964240102171137, 0.03895274584929754, 0.059386973180076706, 0.08876117496807157, 0.11877394636015322, 0.13537675606641136, 0.17560664112388252, 0.20625798212005117, 0.23371647509578541, 0.26053639846743304, 0.3214303959131544, 0.397439335887612, 0.39239463601532576, 0.4130140485312899, 0.475925925925926, 0.5021072796934866, 0.5186462324393359, 0.5682311621966796, 0.5802554278416348, 0.5781226053639849], \"yaxis\": \"y\"}, {\"hovertemplate\": \"variable=Hospital Services<br>Year End=%{x}<br>value=%{y}<extra></extra>\", \"legendgroup\": \"Hospital Services\", \"line\": {\"color\": \"#FFA15A\", \"dash\": \"solid\"}, \"mode\": \"markers+lines\", \"name\": \"Hospital Services\", \"orientation\": \"v\", \"showlegend\": true, \"type\": \"scatter\", \"x\": [\"1996-12-31\", \"1997-12-31\", \"1998-12-31\", \"1999-12-31\", \"2000-12-31\", \"2001-12-31\", \"2002-12-31\", \"2003-12-31\", \"2004-12-31\", \"2005-12-31\", \"2006-12-31\", \"2007-12-31\", \"2008-12-31\", \"2009-12-31\", \"2010-12-31\", \"2011-12-31\", \"2012-12-31\", \"2013-12-31\", \"2014-12-31\", \"2015-12-31\", \"2016-12-31\"], \"xaxis\": \"x\", \"y\": [0.0, 0.032151991231275164, 0.06466934599926924, 0.11910851297040564, 0.18852758494702238, 0.2725611983924005, 0.3971501644135915, 0.4870295944464743, 0.5637559371574717, 0.6430398246255024, 0.7435147972232371, 0.8840957252466205, 0.986061381074169, 1.1262988673730365, 1.2695506028498353, 1.3888892948483744, 1.4991048593350385, 1.5973364998173185, 1.7152064303982462, 1.8227840701497993, 1.943452685421995], \"yaxis\": \"y\"}, {\"hovertemplate\": \"variable=Housing (Shelter)<br>Year End=%{x}<br>value=%{y}<extra></extra>\", \"legendgroup\": \"Housing (Shelter)\", \"line\": {\"color\": \"#19d3f3\", \"dash\": \"solid\"}, \"mode\": \"markers+lines\", \"name\": \"Housing (Shelter)\", \"orientation\": \"v\", \"showlegend\": true, \"type\": \"scatter\", \"x\": [\"1996-12-31\", \"1997-12-31\", \"1998-12-31\", \"1999-12-31\", \"2000-12-31\", \"2001-12-31\", \"2002-12-31\", \"2003-12-31\", \"2004-12-31\", \"2005-12-31\", \"2006-12-31\", \"2007-12-31\", \"2008-12-31\", \"2009-12-31\", \"2010-12-31\", \"2011-12-31\", \"2012-12-31\", \"2013-12-31\", \"2014-12-31\", \"2015-12-31\", \"2016-12-31\"], \"xaxis\": \"x\", \"y\": [0.0, 0.033662217063261654, 0.06790481717933829, 0.09460243760882171, 0.13232733604178748, 0.17933836331979092, 0.21590249564712702, 0.24260011607661044, 0.2756819500870574, 0.3093441671503191, 0.3644805571677306, 0.40668601276842714, 0.43403946604759136, 0.4385548461984909, 0.44499129425420775, 0.47252466627974443, 0.5049216482878699, 0.5431282646546718, 0.5879164248403946, 0.6389669181659895, 0.6982704585026117], \"yaxis\": \"y\"}, {\"hovertemplate\": \"variable=Insulin (Humalog)<br>Year End=%{x}<br>value=%{y}<extra></extra>\", \"legendgroup\": \"Insulin (Humalog)\", \"line\": {\"color\": \"#FF6692\", \"dash\": \"solid\"}, \"mode\": \"markers+lines\", \"name\": \"Insulin (Humalog)\", \"orientation\": \"v\", \"showlegend\": true, \"type\": \"scatter\", \"x\": [\"1996-12-31\", \"1997-12-31\", \"1998-12-31\", \"1999-12-31\", \"2000-12-31\", \"2001-12-31\", \"2002-12-31\", \"2003-12-31\", \"2004-12-31\", \"2005-12-31\", \"2006-12-31\", \"2007-12-31\", \"2008-12-31\", \"2009-12-31\", \"2010-12-31\", \"2011-12-31\", \"2012-12-31\", \"2013-12-31\", \"2014-12-31\", \"2015-12-31\", \"2016-12-31\"], \"xaxis\": \"x\", \"y\": [0.0, 0.05572677301610769, 0.20009483824349242, 0.35455935091254576, 0.6975500919470069, 0.9604076613037252, 1.3244022429064894, 1.5920117679697083, 1.8197134810678999, 2.1249650579758854, 2.3780549357631737, 2.775348546856732, 3.2877621783202176, 3.7169150589583047, 4.256156168040233, 4.8233537043202315, 5.6219992491482085, 6.984460201313282, 8.727784253975523, 10.27575858462076, 11.549517645778645], \"yaxis\": \"y\"}, {\"hovertemplate\": \"variable=Medical Care Services<br>Year End=%{x}<br>value=%{y}<extra></extra>\", \"legendgroup\": \"Medical Care Services\", \"line\": {\"color\": \"#B6E880\", \"dash\": \"solid\"}, \"mode\": \"markers+lines\", \"name\": \"Medical Care Services\", \"orientation\": \"v\", \"showlegend\": true, \"type\": \"scatter\", \"x\": [\"1996-12-31\", \"1997-12-31\", \"1998-12-31\", \"1999-12-31\", \"2000-12-31\", \"2001-12-31\", \"2002-12-31\", \"2003-12-31\", \"2004-12-31\", \"2005-12-31\", \"2006-12-31\", \"2007-12-31\", \"2008-12-31\", \"2009-12-31\", \"2010-12-31\", \"2011-12-31\", \"2012-12-31\", \"2013-12-31\", \"2014-12-31\", \"2015-12-31\", \"2016-12-31\"], \"xaxis\": \"x\", \"y\": [0.0, 0.028936170212766007, 0.06212765957446806, 0.1, 0.15063829787234032, 0.20638297872340425, 0.2740425531914893, 0.3272340425531914, 0.39276595744680853, 0.4553191489361702, 0.5148936170212766, 0.604, 0.6522, 0.7083063829787234, 0.7662936170212766, 0.8298085106382979, 0.8976808510638297, 0.9459404255319148, 0.9931617021276598, 1.050991489361702, 1.1312553191489363], \"yaxis\": \"y\"}, {\"hovertemplate\": \"variable=Prescription Drugs<br>Year End=%{x}<br>value=%{y}<extra></extra>\", \"legendgroup\": \"Prescription Drugs\", \"line\": {\"color\": \"#FF97FF\", \"dash\": \"solid\"}, \"mode\": \"markers+lines\", \"name\": \"Prescription Drugs\", \"orientation\": \"v\", \"showlegend\": true, \"type\": \"scatter\", \"x\": [\"1996-12-31\", \"1997-12-31\", \"1998-12-31\", \"1999-12-31\", \"2000-12-31\", \"2001-12-31\", \"2002-12-31\", \"2003-12-31\", \"2004-12-31\", \"2005-12-31\", \"2006-12-31\", \"2007-12-31\", \"2008-12-31\", \"2009-12-31\", \"2010-12-31\", \"2011-12-31\", \"2012-12-31\", \"2013-12-31\", \"2014-12-31\", \"2015-12-31\", \"2016-12-31\"], \"xaxis\": \"x\", \"y\": [0.0, 0.02485737571312141, 0.07497962510187452, 0.14058679706601454, 0.18174409127954358, 0.25224123879380606, 0.308883455582722, 0.34107579462102694, 0.38834555827220857, 0.4494702526487367, 0.47636511817440913, 0.5256275468622656, 0.5482599837000817, 0.6158353708231459, 0.6820945395273024, 0.7514955175224122, 0.7844539527302362, 0.7994661776691117, 0.9143357783211085, 0.9606112469437653, 1.083092909535452], \"yaxis\": \"y\"}, {\"hovertemplate\": \"variable=Utilities<br>Year End=%{x}<br>value=%{y}<extra></extra>\", \"legendgroup\": \"Utilities\", \"line\": {\"color\": \"#FECB52\", \"dash\": \"solid\"}, \"mode\": \"markers+lines\", \"name\": \"Utilities\", \"orientation\": \"v\", \"showlegend\": true, \"type\": \"scatter\", \"x\": [\"1996-12-31\", \"1997-12-31\", \"1998-12-31\", \"1999-12-31\", \"2000-12-31\", \"2001-12-31\", \"2002-12-31\", \"2003-12-31\", \"2004-12-31\", \"2005-12-31\", \"2006-12-31\", \"2007-12-31\", \"2008-12-31\", \"2009-12-31\", \"2010-12-31\", \"2011-12-31\", \"2012-12-31\", \"2013-12-31\", \"2014-12-31\", \"2015-12-31\", \"2016-12-31\"], \"xaxis\": \"x\", \"y\": [0.0, 0.004636785162287436, -0.021638330757341662, 0.001545595054095739, 0.12287480680061828, 0.09891808346213278, 0.11437403400309105, 0.18701700154559495, 0.28052550231839246, 0.4806800618238021, 0.4884080370942812, 0.5688253477588869, 0.6629366306027822, 0.6132921174652239, 0.6422333848531684, 0.6821792890262751, 0.6885316846986087, 0.7342117465224112, 0.7863214837712519, 0.7273647604327664, 0.7735085007727976], \"yaxis\": \"y\"}],                        {\"font\": {\"color\": \"#2F284F\", \"family\": \"Helvetica\", \"size\": 16}, \"hoverlabel\": {\"bgcolor\": \"white\", \"font\": {\"family\": \"Helvetica\", \"size\": 12}}, \"legend\": {\"title\": {\"text\": \"Goods\"}, \"tracegroupgap\": 0}, \"margin\": {\"t\": 60}, \"template\": {\"data\": {\"bar\": [{\"error_x\": {\"color\": \"#2a3f5f\"}, \"error_y\": {\"color\": \"#2a3f5f\"}, \"marker\": {\"line\": {\"color\": \"#E5ECF6\", \"width\": 0.5}}, \"type\": \"bar\"}], \"barpolar\": [{\"marker\": {\"line\": {\"color\": \"#E5ECF6\", \"width\": 0.5}}, \"type\": \"barpolar\"}], \"carpet\": [{\"aaxis\": {\"endlinecolor\": \"#2a3f5f\", \"gridcolor\": \"white\", \"linecolor\": \"white\", \"minorgridcolor\": \"white\", \"startlinecolor\": \"#2a3f5f\"}, \"baxis\": {\"endlinecolor\": \"#2a3f5f\", \"gridcolor\": \"white\", \"linecolor\": \"white\", \"minorgridcolor\": \"white\", \"startlinecolor\": \"#2a3f5f\"}, \"type\": \"carpet\"}], \"choropleth\": [{\"colorbar\": {\"outlinewidth\": 0, \"ticks\": \"\"}, \"type\": \"choropleth\"}], \"contour\": [{\"colorbar\": {\"outlinewidth\": 0, \"ticks\": \"\"}, \"colorscale\": [[0.0, \"#0d0887\"], [0.1111111111111111, \"#46039f\"], [0.2222222222222222, \"#7201a8\"], [0.3333333333333333, \"#9c179e\"], [0.4444444444444444, \"#bd3786\"], [0.5555555555555556, \"#d8576b\"], [0.6666666666666666, \"#ed7953\"], [0.7777777777777778, \"#fb9f3a\"], [0.8888888888888888, \"#fdca26\"], [1.0, \"#f0f921\"]], \"type\": \"contour\"}], \"contourcarpet\": [{\"colorbar\": {\"outlinewidth\": 0, \"ticks\": \"\"}, \"type\": \"contourcarpet\"}], \"heatmap\": [{\"colorbar\": {\"outlinewidth\": 0, \"ticks\": \"\"}, \"colorscale\": [[0.0, \"#0d0887\"], [0.1111111111111111, \"#46039f\"], [0.2222222222222222, \"#7201a8\"], [0.3333333333333333, \"#9c179e\"], [0.4444444444444444, \"#bd3786\"], [0.5555555555555556, \"#d8576b\"], [0.6666666666666666, \"#ed7953\"], [0.7777777777777778, \"#fb9f3a\"], [0.8888888888888888, \"#fdca26\"], [1.0, \"#f0f921\"]], \"type\": \"heatmap\"}], \"heatmapgl\": [{\"colorbar\": {\"outlinewidth\": 0, \"ticks\": \"\"}, \"colorscale\": [[0.0, \"#0d0887\"], [0.1111111111111111, \"#46039f\"], [0.2222222222222222, \"#7201a8\"], [0.3333333333333333, \"#9c179e\"], [0.4444444444444444, \"#bd3786\"], [0.5555555555555556, \"#d8576b\"], [0.6666666666666666, \"#ed7953\"], [0.7777777777777778, \"#fb9f3a\"], [0.8888888888888888, \"#fdca26\"], [1.0, \"#f0f921\"]], \"type\": \"heatmapgl\"}], \"histogram\": [{\"marker\": {\"colorbar\": {\"outlinewidth\": 0, \"ticks\": \"\"}}, \"type\": \"histogram\"}], \"histogram2d\": [{\"colorbar\": {\"outlinewidth\": 0, \"ticks\": \"\"}, \"colorscale\": [[0.0, \"#0d0887\"], [0.1111111111111111, \"#46039f\"], [0.2222222222222222, \"#7201a8\"], [0.3333333333333333, \"#9c179e\"], [0.4444444444444444, \"#bd3786\"], [0.5555555555555556, \"#d8576b\"], [0.6666666666666666, \"#ed7953\"], [0.7777777777777778, \"#fb9f3a\"], [0.8888888888888888, \"#fdca26\"], [1.0, \"#f0f921\"]], \"type\": \"histogram2d\"}], \"histogram2dcontour\": [{\"colorbar\": {\"outlinewidth\": 0, \"ticks\": \"\"}, \"colorscale\": [[0.0, \"#0d0887\"], [0.1111111111111111, \"#46039f\"], [0.2222222222222222, \"#7201a8\"], [0.3333333333333333, \"#9c179e\"], [0.4444444444444444, \"#bd3786\"], [0.5555555555555556, \"#d8576b\"], [0.6666666666666666, \"#ed7953\"], [0.7777777777777778, \"#fb9f3a\"], [0.8888888888888888, \"#fdca26\"], [1.0, \"#f0f921\"]], \"type\": \"histogram2dcontour\"}], \"mesh3d\": [{\"colorbar\": {\"outlinewidth\": 0, \"ticks\": \"\"}, \"type\": \"mesh3d\"}], \"parcoords\": [{\"line\": {\"colorbar\": {\"outlinewidth\": 0, \"ticks\": \"\"}}, \"type\": \"parcoords\"}], \"pie\": [{\"automargin\": true, \"type\": \"pie\"}], \"scatter\": [{\"marker\": {\"colorbar\": {\"outlinewidth\": 0, \"ticks\": \"\"}}, \"type\": \"scatter\"}], \"scatter3d\": [{\"line\": {\"colorbar\": {\"outlinewidth\": 0, \"ticks\": \"\"}}, \"marker\": {\"colorbar\": {\"outlinewidth\": 0, \"ticks\": \"\"}}, \"type\": \"scatter3d\"}], \"scattercarpet\": [{\"marker\": {\"colorbar\": {\"outlinewidth\": 0, \"ticks\": \"\"}}, \"type\": \"scattercarpet\"}], \"scattergeo\": [{\"marker\": {\"colorbar\": {\"outlinewidth\": 0, \"ticks\": \"\"}}, \"type\": \"scattergeo\"}], \"scattergl\": [{\"marker\": {\"colorbar\": {\"outlinewidth\": 0, \"ticks\": \"\"}}, \"type\": \"scattergl\"}], \"scattermapbox\": [{\"marker\": {\"colorbar\": {\"outlinewidth\": 0, \"ticks\": \"\"}}, \"type\": \"scattermapbox\"}], \"scatterpolar\": [{\"marker\": {\"colorbar\": {\"outlinewidth\": 0, \"ticks\": \"\"}}, \"type\": \"scatterpolar\"}], \"scatterpolargl\": [{\"marker\": {\"colorbar\": {\"outlinewidth\": 0, \"ticks\": \"\"}}, \"type\": \"scatterpolargl\"}], \"scatterternary\": [{\"marker\": {\"colorbar\": {\"outlinewidth\": 0, \"ticks\": \"\"}}, \"type\": \"scatterternary\"}], \"surface\": [{\"colorbar\": {\"outlinewidth\": 0, \"ticks\": \"\"}, \"colorscale\": [[0.0, \"#0d0887\"], [0.1111111111111111, \"#46039f\"], [0.2222222222222222, \"#7201a8\"], [0.3333333333333333, \"#9c179e\"], [0.4444444444444444, \"#bd3786\"], [0.5555555555555556, \"#d8576b\"], [0.6666666666666666, \"#ed7953\"], [0.7777777777777778, \"#fb9f3a\"], [0.8888888888888888, \"#fdca26\"], [1.0, \"#f0f921\"]], \"type\": \"surface\"}], \"table\": [{\"cells\": {\"fill\": {\"color\": \"#EBF0F8\"}, \"line\": {\"color\": \"white\"}}, \"header\": {\"fill\": {\"color\": \"#C8D4E3\"}, \"line\": {\"color\": \"white\"}}, \"type\": \"table\"}]}, \"layout\": {\"annotationdefaults\": {\"arrowcolor\": \"#2a3f5f\", \"arrowhead\": 0, \"arrowwidth\": 1}, \"autotypenumbers\": \"strict\", \"coloraxis\": {\"colorbar\": {\"outlinewidth\": 0, \"ticks\": \"\"}}, \"colorscale\": {\"diverging\": [[0, \"#8e0152\"], [0.1, \"#c51b7d\"], [0.2, \"#de77ae\"], [0.3, \"#f1b6da\"], [0.4, \"#fde0ef\"], [0.5, \"#f7f7f7\"], [0.6, \"#e6f5d0\"], [0.7, \"#b8e186\"], [0.8, \"#7fbc41\"], [0.9, \"#4d9221\"], [1, \"#276419\"]], \"sequential\": [[0.0, \"#0d0887\"], [0.1111111111111111, \"#46039f\"], [0.2222222222222222, \"#7201a8\"], [0.3333333333333333, \"#9c179e\"], [0.4444444444444444, \"#bd3786\"], [0.5555555555555556, \"#d8576b\"], [0.6666666666666666, \"#ed7953\"], [0.7777777777777778, \"#fb9f3a\"], [0.8888888888888888, \"#fdca26\"], [1.0, \"#f0f921\"]], \"sequentialminus\": [[0.0, \"#0d0887\"], [0.1111111111111111, \"#46039f\"], [0.2222222222222222, \"#7201a8\"], [0.3333333333333333, \"#9c179e\"], [0.4444444444444444, \"#bd3786\"], [0.5555555555555556, \"#d8576b\"], [0.6666666666666666, \"#ed7953\"], [0.7777777777777778, \"#fb9f3a\"], [0.8888888888888888, \"#fdca26\"], [1.0, \"#f0f921\"]]}, \"colorway\": [\"#636efa\", \"#EF553B\", \"#00cc96\", \"#ab63fa\", \"#FFA15A\", \"#19d3f3\", \"#FF6692\", \"#B6E880\", \"#FF97FF\", \"#FECB52\"], \"font\": {\"color\": \"#2a3f5f\"}, \"geo\": {\"bgcolor\": \"white\", \"lakecolor\": \"white\", \"landcolor\": \"#E5ECF6\", \"showlakes\": true, \"showland\": true, \"subunitcolor\": \"white\"}, \"hoverlabel\": {\"align\": \"left\"}, \"hovermode\": \"closest\", \"mapbox\": {\"style\": \"light\"}, \"paper_bgcolor\": \"white\", \"plot_bgcolor\": \"#E5ECF6\", \"polar\": {\"angularaxis\": {\"gridcolor\": \"white\", \"linecolor\": \"white\", \"ticks\": \"\"}, \"bgcolor\": \"#E5ECF6\", \"radialaxis\": {\"gridcolor\": \"white\", \"linecolor\": \"white\", \"ticks\": \"\"}}, \"scene\": {\"xaxis\": {\"backgroundcolor\": \"#E5ECF6\", \"gridcolor\": \"white\", \"gridwidth\": 2, \"linecolor\": \"white\", \"showbackground\": true, \"ticks\": \"\", \"zerolinecolor\": \"white\"}, \"yaxis\": {\"backgroundcolor\": \"#E5ECF6\", \"gridcolor\": \"white\", \"gridwidth\": 2, \"linecolor\": \"white\", \"showbackground\": true, \"ticks\": \"\", \"zerolinecolor\": \"white\"}, \"zaxis\": {\"backgroundcolor\": \"#E5ECF6\", \"gridcolor\": \"white\", \"gridwidth\": 2, \"linecolor\": \"white\", \"showbackground\": true, \"ticks\": \"\", \"zerolinecolor\": \"white\"}}, \"shapedefaults\": {\"line\": {\"color\": \"#2a3f5f\"}}, \"ternary\": {\"aaxis\": {\"gridcolor\": \"white\", \"linecolor\": \"white\", \"ticks\": \"\"}, \"baxis\": {\"gridcolor\": \"white\", \"linecolor\": \"white\", \"ticks\": \"\"}, \"bgcolor\": \"#E5ECF6\", \"caxis\": {\"gridcolor\": \"white\", \"linecolor\": \"white\", \"ticks\": \"\"}}, \"title\": {\"x\": 0.05}, \"xaxis\": {\"automargin\": true, \"gridcolor\": \"white\", \"linecolor\": \"white\", \"ticks\": \"\", \"title\": {\"standoff\": 15}, \"zerolinecolor\": \"white\", \"zerolinewidth\": 2}, \"yaxis\": {\"automargin\": true, \"gridcolor\": \"white\", \"linecolor\": \"white\", \"ticks\": \"\", \"title\": {\"standoff\": 15}, \"zerolinecolor\": \"white\", \"zerolinewidth\": 2}}}, \"title\": {\"text\": \"Price of Insulin vs. the Price of Other Goods\"}, \"xaxis\": {\"anchor\": \"y\", \"domain\": [0.0, 1.0], \"nticks\": 20, \"title\": {\"text\": \"Year End\"}}, \"yaxis\": {\"anchor\": \"x\", \"domain\": [0.0, 1.0], \"nticks\": 20, \"tickformat\": \"%\", \"title\": {\"text\": \"Percentage Change Since 1996\"}}},                        {\"responsive\": true}                    ).then(function(){\n",
       "                            \n",
       "var gd = document.getElementById('64f59335-1683-4d0a-9768-83363777e3ab');\n",
       "var x = new MutationObserver(function (mutations, observer) {{\n",
       "        var display = window.getComputedStyle(gd).display;\n",
       "        if (!display || display === 'none') {{\n",
       "            console.log([gd, 'removed!']);\n",
       "            Plotly.purge(gd);\n",
       "            observer.disconnect();\n",
       "        }}\n",
       "}});\n",
       "\n",
       "// Listen for the removal of the full notebook cells\n",
       "var notebookContainer = gd.closest('#notebook-container');\n",
       "if (notebookContainer) {{\n",
       "    x.observe(notebookContainer, {childList: true});\n",
       "}}\n",
       "\n",
       "// Listen for the clearing of the current output cell\n",
       "var outputEl = gd.closest('.output');\n",
       "if (outputEl) {{\n",
       "    x.observe(outputEl, {childList: true});\n",
       "}}\n",
       "\n",
       "                        })                };                });            </script>        </div>"
      ]
     },
     "metadata": {},
     "output_type": "display_data"
    }
   ],
   "source": [
    "# imports\n",
    "import plotly.express as px \n",
    "import pandas as pd \n",
    "\n",
    "# data\n",
    "fig = px.line(cross_tab, \n",
    "              x='Year End', \n",
    "              y=[ 'All Items','Childcare','College Tuition','Food and Beverage','Hospital Services','Housing (Shelter)', 'Insulin (Humalog)','Medical Care Services','Prescription Drugs','Utilities'],\n",
    "             )\n",
    "\n",
    "\n",
    "fig.update_layout(\n",
    "    title=\"Price of Insulin vs. the Price of Other Goods\",\n",
    "    xaxis_title=\"Year End\",\n",
    "    yaxis_title=\"Percentage Change Since 1996\",\n",
    "    legend_title=\"Goods\",\n",
    "    font=dict(\n",
    "        family=\"Helvetica\",\n",
    "        size=16,\n",
    "        color=\"#2F284F\"\n",
    "    )\n",
    ")\n",
    "\n",
    "'''\n",
    "fig['data'][0]['line']['color']=\"#F36235\" #ALL ITEMS\n",
    "fig['data'][1]['line']['color']=\"#2F284F\" #CHILDCARE\n",
    "fig['data'][2]['line']['color']=\"#1A9A8C\" #COLLEGE TUITION\n",
    "fig['data'][3]['line']['color']=\"#E7D54C\" #FOOD\n",
    "fig['data'][4]['line']['color']=\"#F36235\" #HOSPITAL\n",
    "fig['data'][5]['line']['color']=\"#2F284F\" #HOUSING\n",
    "fig['data'][6]['line']['color']=\"#E71D36\" #INSULIN\n",
    "fig['data'][7]['line']['color']=\"#1A9A8C\" #MEDICAL CARE\n",
    "fig['data'][8]['line']['color']=\"#E7D54C\" #PRESCRIPTION\n",
    "fig['data'][9]['line']['color']=\"#F36235\" #UTILITIES\n",
    "'''\n",
    "\n",
    "fig.update_yaxes(nticks=20)\n",
    "fig.update_xaxes(nticks=20)\n",
    "fig.update_traces(mode=\"markers+lines\")\n",
    "fig.update_layout(\n",
    "    hoverlabel=dict(\n",
    "        bgcolor=\"white\",\n",
    "        font_size=12,\n",
    "        font_family=\"Helvetica\"\n",
    "    )\n",
    ")\n",
    "\n",
    "\n",
    "\n",
    "fig.update_yaxes(tickformat=\"%\")\n",
    "\n",
    "# Show plot \n",
    "fig.show()"
   ]
  },
  {
   "cell_type": "code",
   "execution_count": 33,
   "metadata": {},
   "outputs": [],
   "source": [
    "import plotly.io as pio\n",
    "pio.write_html(fig, file='index.html', auto_open=True)"
   ]
  },
  {
   "cell_type": "code",
   "execution_count": null,
   "metadata": {},
   "outputs": [],
   "source": []
  }
 ],
 "metadata": {
  "kernelspec": {
   "display_name": "Python 3",
   "language": "python",
   "name": "python3"
  },
  "language_info": {
   "codemirror_mode": {
    "name": "ipython",
    "version": 3
   },
   "file_extension": ".py",
   "mimetype": "text/x-python",
   "name": "python",
   "nbconvert_exporter": "python",
   "pygments_lexer": "ipython3",
   "version": "3.8.3"
  }
 },
 "nbformat": 4,
 "nbformat_minor": 4
}
